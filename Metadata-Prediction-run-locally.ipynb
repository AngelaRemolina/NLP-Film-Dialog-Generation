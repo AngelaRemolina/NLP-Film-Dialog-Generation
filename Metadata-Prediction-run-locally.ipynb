{
  "cells": [
    {
      "cell_type": "markdown",
      "metadata": {
        "id": "9a9WSFVeNE3r"
      },
      "source": [
        "## Data wrangling"
      ]
    },
    {
      "cell_type": "code",
      "execution_count": 1,
      "metadata": {
        "id": "Px3MywPuDuY0"
      },
      "outputs": [],
      "source": [
        "dataset = 'cornell movie-dialogs corpus'"
      ]
    },
    {
      "cell_type": "markdown",
      "metadata": {
        "id": "a7WRU__nNG0V"
      },
      "source": [
        "These are the different files found in the dataset, let's see what's inside of them"
      ]
    },
    {
      "cell_type": "code",
      "execution_count": 2,
      "metadata": {
        "id": "q_ro3X6Pusrx"
      },
      "outputs": [],
      "source": [
        "with open(f'{dataset}/movie_lines.txt', encoding='utf-8') as f:\n",
        "    lines = f.readlines()\n",
        "\n",
        "with open(f'{dataset}/movie_conversations.txt', encoding='utf-8') as f:\n",
        "    conversations = f.readlines()\n",
        "\n",
        "with open(f'{dataset}/movie_titles_metadata.txt', encoding='latin-1') as f:\n",
        "    titles = f.readlines()\n",
        "\n",
        "with open(f'{dataset}/movie_characters_metadata.txt', encoding='latin-1') as f:\n",
        "    characters = f.readlines()"
      ]
    },
    {
      "cell_type": "markdown",
      "metadata": {
        "id": "cdl0R91IIXbT"
      },
      "source": [
        "The lines and conversation files that are conected with an ID of the line in the conversation.\n",
        "\n",
        "> According to the dataset documentation these file contains\n",
        "* 220,579 conversational exchanges between 10,292 pairs of movie characters\n",
        "* involves 9,035 characters from 617 movies\n",
        "* in total 304,713 utterances\n",
        "\n",
        "Also on the titles file we can see\n",
        "\n",
        "> Movie metadata included:\n",
        "* genres\n",
        "* release year\n",
        "* IMDB rating\n",
        "* number of IMDB votes\n",
        "* IMDB rating\n",
        "\n",
        "And this information for the characters file\n",
        "\n",
        "> Character metadata included:\n",
        "* gender (for 3,774 characters)\n",
        "* position on movie credits (3,321 characters)\n"
      ]
    },
    {
      "cell_type": "markdown",
      "metadata": {
        "id": "zfpDrzyrDbXd"
      },
      "source": [
        "For easier visualization, we'll load the Loading them into a pandas dataframe, starting with the lines.\n"
      ]
    },
    {
      "cell_type": "markdown",
      "metadata": {
        "id": "FmYPpI6jOshY"
      },
      "source": [
        "As we saw before, each column of the dataset is splitted by the string `+++$+++` then we'll set that as a parameter for the split function. Also we'll delete the last `\\n` symbol from the line"
      ]
    },
    {
      "cell_type": "code",
      "execution_count": 3,
      "metadata": {
        "id": "pGx7vVZ6wG9F"
      },
      "outputs": [
        {
          "name": "stderr",
          "output_type": "stream",
          "text": [
            "C:\\Users\\Angela\\AppData\\Local\\Temp\\ipykernel_14152\\2143862898.py:3: DeprecationWarning: \n",
            "Pyarrow will become a required dependency of pandas in the next major release of pandas (pandas 3.0),\n",
            "(to allow more performant data types, such as the Arrow string type, and better interoperability with other libraries)\n",
            "but was not found to be installed on your system.\n",
            "If this would cause problems for you,\n",
            "please provide us feedback at https://github.com/pandas-dev/pandas/issues/54466\n",
            "        \n",
            "  import pandas as pd\n"
          ]
        }
      ],
      "source": [
        "import re\n",
        "import ast\n",
        "import pandas as pd\n",
        "import numpy as np\n",
        "\n",
        "from sklearn.feature_extraction.text import TfidfVectorizer\n",
        "from sklearn.model_selection import train_test_split\n",
        "from sklearn.ensemble import RandomForestRegressor\n",
        "from sklearn.ensemble import RandomForestClassifier\n",
        "from sklearn.multiclass import OneVsRestClassifier\n",
        "from sklearn.preprocessing import MultiLabelBinarizer\n",
        "\n",
        "import joblib"
      ]
    },
    {
      "cell_type": "code",
      "execution_count": 4,
      "metadata": {
        "id": "eciPcvQHVj76"
      },
      "outputs": [],
      "source": [
        "def clean_text(text): #adapted from https://github.com/REDFOX1899/Chatbot/blob/master/Chatbot.py\n",
        "    text = text.lower()\n",
        "    text = re.sub(r\"i'm\", \"i am\", text)\n",
        "    text = re.sub(r\"he's\", \"he is\", text)\n",
        "    text = re.sub(r\"she's\", \"she is\", text)\n",
        "    text = re.sub(r\"that's\", \"that is\", text)\n",
        "    text = re.sub(r\"what's\", \"what is\", text)\n",
        "    text = re.sub(r\"where's\", \"where is\", text)\n",
        "    text = re.sub(r\"how's\", \"how is\", text)\n",
        "    text = re.sub(r\"\\'ll\", \" will\", text)\n",
        "    text = re.sub(r\"\\'ve\", \" have\", text)\n",
        "    text = re.sub(r\"\\'re\", \" are\", text)\n",
        "    text = re.sub(r\"\\'d\", \" would\", text)\n",
        "    text = re.sub(r\"n't\", \" not\", text)\n",
        "    text = re.sub(r\"won't\", \"will not\", text)\n",
        "    text = re.sub(r\"can't\", \"cannot\", text)\n",
        "    text = re.sub(r\"[-()\\\"#/@;:<>{}`+=~|.!?,]\", \"\", text)\n",
        "\n",
        "    # from some common specific mistakes found in this dataset\n",
        "    text = re.sub(r\"youíre\", \"you are\", text)\n",
        "    text = re.sub(r\"óó\", \"\", text)\n",
        "\n",
        "    return text"
      ]
    },
    {
      "cell_type": "code",
      "execution_count": 5,
      "metadata": {
        "colab": {
          "base_uri": "https://localhost:8080/",
          "height": 206
        },
        "id": "A6GUVcRxLuL9",
        "outputId": "f44d317a-22a1-4096-e4fe-d4941e7c2fcb"
      },
      "outputs": [
        {
          "name": "stderr",
          "output_type": "stream",
          "text": [
            "C:\\Users\\Angela\\AppData\\Local\\Temp\\ipykernel_14152\\3583101083.py:9: FutureWarning: DataFrame.applymap has been deprecated. Use DataFrame.map instead.\n",
            "  df_lines = df_lines.applymap(lambda x: x.rstrip() if isinstance(x, str) else x)\n"
          ]
        },
        {
          "data": {
            "text/html": [
              "<div>\n",
              "<style scoped>\n",
              "    .dataframe tbody tr th:only-of-type {\n",
              "        vertical-align: middle;\n",
              "    }\n",
              "\n",
              "    .dataframe tbody tr th {\n",
              "        vertical-align: top;\n",
              "    }\n",
              "\n",
              "    .dataframe thead th {\n",
              "        text-align: right;\n",
              "    }\n",
              "</style>\n",
              "<table border=\"1\" class=\"dataframe\">\n",
              "  <thead>\n",
              "    <tr style=\"text-align: right;\">\n",
              "      <th></th>\n",
              "      <th>line_ID</th>\n",
              "      <th>speaker_ID</th>\n",
              "      <th>movie</th>\n",
              "      <th>speaker</th>\n",
              "      <th>text</th>\n",
              "      <th>clean_text</th>\n",
              "    </tr>\n",
              "  </thead>\n",
              "  <tbody>\n",
              "    <tr>\n",
              "      <th>0</th>\n",
              "      <td>L1045</td>\n",
              "      <td>u0</td>\n",
              "      <td>m0</td>\n",
              "      <td>BIANCA</td>\n",
              "      <td>They do not!</td>\n",
              "      <td>they do not</td>\n",
              "    </tr>\n",
              "    <tr>\n",
              "      <th>1</th>\n",
              "      <td>L1044</td>\n",
              "      <td>u2</td>\n",
              "      <td>m0</td>\n",
              "      <td>CAMERON</td>\n",
              "      <td>They do to!</td>\n",
              "      <td>they do to</td>\n",
              "    </tr>\n",
              "    <tr>\n",
              "      <th>2</th>\n",
              "      <td>L985</td>\n",
              "      <td>u0</td>\n",
              "      <td>m0</td>\n",
              "      <td>BIANCA</td>\n",
              "      <td>I hope so.</td>\n",
              "      <td>i hope so</td>\n",
              "    </tr>\n",
              "    <tr>\n",
              "      <th>3</th>\n",
              "      <td>L984</td>\n",
              "      <td>u2</td>\n",
              "      <td>m0</td>\n",
              "      <td>CAMERON</td>\n",
              "      <td>She okay?</td>\n",
              "      <td>she okay</td>\n",
              "    </tr>\n",
              "    <tr>\n",
              "      <th>4</th>\n",
              "      <td>L925</td>\n",
              "      <td>u0</td>\n",
              "      <td>m0</td>\n",
              "      <td>BIANCA</td>\n",
              "      <td>Let's go.</td>\n",
              "      <td>let's go</td>\n",
              "    </tr>\n",
              "  </tbody>\n",
              "</table>\n",
              "</div>"
            ],
            "text/plain": [
              "  line_ID speaker_ID movie  speaker          text   clean_text\n",
              "0   L1045         u0    m0   BIANCA  They do not!  they do not\n",
              "1   L1044         u2    m0  CAMERON   They do to!   they do to\n",
              "2    L985         u0    m0   BIANCA    I hope so.    i hope so\n",
              "3    L984         u2    m0  CAMERON     She okay?     she okay\n",
              "4    L925         u0    m0   BIANCA     Let's go.     let's go"
            ]
          },
          "execution_count": 5,
          "metadata": {},
          "output_type": "execute_result"
        }
      ],
      "source": [
        "# create dataframe with lines\n",
        "df_lines = pd.DataFrame({'line_text': lines})\n",
        "\n",
        "# split into columns\n",
        "df_lines = df_lines['line_text'].str.split(r' \\+\\+\\+\\$\\+\\+\\+ ', expand=True)\n",
        "df_lines.columns = ['line_ID', 'speaker_ID', 'movie','speaker','text']\n",
        "\n",
        "# delete new line character and other blank character\n",
        "df_lines = df_lines.applymap(lambda x: x.rstrip() if isinstance(x, str) else x)\n",
        "df_lines['text'] = df_lines['text'].str.rstrip('\\n')\n",
        "\n",
        "# Add column clean text\n",
        "df_lines['clean_text'] = df_lines['text'].apply(lambda x: clean_text(x))\n",
        "\n",
        "#might be needed?\n",
        "# # add column speaker + text\n",
        "# df_lines['line'] = df_lines['speaker'] + \": \" + df_lines['clean_text']\n",
        "\n",
        "df_lines.head(5)"
      ]
    },
    {
      "cell_type": "markdown",
      "metadata": {
        "id": "31EB2c5gJz07"
      },
      "source": [
        "Now let's do the same thing with all the other txt files"
      ]
    },
    {
      "cell_type": "code",
      "execution_count": 6,
      "metadata": {
        "colab": {
          "base_uri": "https://localhost:8080/",
          "height": 206
        },
        "id": "hzSo26FpPFkc",
        "outputId": "4e594c37-56f6-4765-ee9e-e9e74a96288f"
      },
      "outputs": [
        {
          "data": {
            "text/html": [
              "<div>\n",
              "<style scoped>\n",
              "    .dataframe tbody tr th:only-of-type {\n",
              "        vertical-align: middle;\n",
              "    }\n",
              "\n",
              "    .dataframe tbody tr th {\n",
              "        vertical-align: top;\n",
              "    }\n",
              "\n",
              "    .dataframe thead th {\n",
              "        text-align: right;\n",
              "    }\n",
              "</style>\n",
              "<table border=\"1\" class=\"dataframe\">\n",
              "  <thead>\n",
              "    <tr style=\"text-align: right;\">\n",
              "      <th></th>\n",
              "      <th>speaker1_ID</th>\n",
              "      <th>speaker2_ID</th>\n",
              "      <th>movie_ID</th>\n",
              "      <th>lines_list</th>\n",
              "    </tr>\n",
              "  </thead>\n",
              "  <tbody>\n",
              "    <tr>\n",
              "      <th>0</th>\n",
              "      <td>u0</td>\n",
              "      <td>u2</td>\n",
              "      <td>m0</td>\n",
              "      <td>[L194, L195, L196, L197]</td>\n",
              "    </tr>\n",
              "    <tr>\n",
              "      <th>1</th>\n",
              "      <td>u0</td>\n",
              "      <td>u2</td>\n",
              "      <td>m0</td>\n",
              "      <td>[L198, L199]</td>\n",
              "    </tr>\n",
              "    <tr>\n",
              "      <th>2</th>\n",
              "      <td>u0</td>\n",
              "      <td>u2</td>\n",
              "      <td>m0</td>\n",
              "      <td>[L200, L201, L202, L203]</td>\n",
              "    </tr>\n",
              "    <tr>\n",
              "      <th>3</th>\n",
              "      <td>u0</td>\n",
              "      <td>u2</td>\n",
              "      <td>m0</td>\n",
              "      <td>[L204, L205, L206]</td>\n",
              "    </tr>\n",
              "    <tr>\n",
              "      <th>4</th>\n",
              "      <td>u0</td>\n",
              "      <td>u2</td>\n",
              "      <td>m0</td>\n",
              "      <td>[L207, L208]</td>\n",
              "    </tr>\n",
              "  </tbody>\n",
              "</table>\n",
              "</div>"
            ],
            "text/plain": [
              "  speaker1_ID speaker2_ID movie_ID                lines_list\n",
              "0          u0          u2       m0  [L194, L195, L196, L197]\n",
              "1          u0          u2       m0              [L198, L199]\n",
              "2          u0          u2       m0  [L200, L201, L202, L203]\n",
              "3          u0          u2       m0        [L204, L205, L206]\n",
              "4          u0          u2       m0              [L207, L208]"
            ]
          },
          "execution_count": 6,
          "metadata": {},
          "output_type": "execute_result"
        }
      ],
      "source": [
        "# create dataframe with conversations\n",
        "df_conv = pd.DataFrame({'conv': conversations})\n",
        "\n",
        "# split into columns\n",
        "df_conv = df_conv['conv'].str.split(r' \\+\\+\\+\\$\\+\\+\\+ ', expand=True)\n",
        "df_conv.columns = ['speaker1_ID', 'speaker2_ID', 'movie_ID','lines_list']\n",
        "\n",
        "# delete new line character\n",
        "df_conv['lines_list'] = df_conv['lines_list'].str.rstrip('\\n')\n",
        "\n",
        "# set lines_list to list type\n",
        "df_conv['lines_list'] = df_conv['lines_list'].apply(ast.literal_eval)\n",
        "\n",
        "df_conv.head(5)"
      ]
    },
    {
      "cell_type": "code",
      "execution_count": 7,
      "metadata": {
        "colab": {
          "base_uri": "https://localhost:8080/",
          "height": 206
        },
        "id": "pQk6p2pqTkdA",
        "outputId": "02f30103-7bb1-46b3-b892-6c6addb3d0e6"
      },
      "outputs": [
        {
          "data": {
            "text/html": [
              "<div>\n",
              "<style scoped>\n",
              "    .dataframe tbody tr th:only-of-type {\n",
              "        vertical-align: middle;\n",
              "    }\n",
              "\n",
              "    .dataframe tbody tr th {\n",
              "        vertical-align: top;\n",
              "    }\n",
              "\n",
              "    .dataframe thead th {\n",
              "        text-align: right;\n",
              "    }\n",
              "</style>\n",
              "<table border=\"1\" class=\"dataframe\">\n",
              "  <thead>\n",
              "    <tr style=\"text-align: right;\">\n",
              "      <th></th>\n",
              "      <th>movie_ID</th>\n",
              "      <th>title</th>\n",
              "      <th>year</th>\n",
              "      <th>IMBD_rating</th>\n",
              "      <th>IMBD_votes</th>\n",
              "      <th>genres</th>\n",
              "    </tr>\n",
              "  </thead>\n",
              "  <tbody>\n",
              "    <tr>\n",
              "      <th>0</th>\n",
              "      <td>m0</td>\n",
              "      <td>10 things i hate about you</td>\n",
              "      <td>1999</td>\n",
              "      <td>6.9</td>\n",
              "      <td>62847</td>\n",
              "      <td>[comedy, romance]</td>\n",
              "    </tr>\n",
              "    <tr>\n",
              "      <th>1</th>\n",
              "      <td>m1</td>\n",
              "      <td>1492: conquest of paradise</td>\n",
              "      <td>1992</td>\n",
              "      <td>6.2</td>\n",
              "      <td>10421</td>\n",
              "      <td>[adventure, biography, drama, history]</td>\n",
              "    </tr>\n",
              "    <tr>\n",
              "      <th>2</th>\n",
              "      <td>m2</td>\n",
              "      <td>15 minutes</td>\n",
              "      <td>2001</td>\n",
              "      <td>6.1</td>\n",
              "      <td>25854</td>\n",
              "      <td>[action, crime, drama, thriller]</td>\n",
              "    </tr>\n",
              "    <tr>\n",
              "      <th>3</th>\n",
              "      <td>m3</td>\n",
              "      <td>2001: a space odyssey</td>\n",
              "      <td>1968</td>\n",
              "      <td>8.4</td>\n",
              "      <td>163227</td>\n",
              "      <td>[adventure, mystery, sci-fi]</td>\n",
              "    </tr>\n",
              "    <tr>\n",
              "      <th>4</th>\n",
              "      <td>m4</td>\n",
              "      <td>48 hrs.</td>\n",
              "      <td>1982</td>\n",
              "      <td>6.9</td>\n",
              "      <td>22289</td>\n",
              "      <td>[action, comedy, crime, drama, thriller]</td>\n",
              "    </tr>\n",
              "  </tbody>\n",
              "</table>\n",
              "</div>"
            ],
            "text/plain": [
              "  movie_ID                       title  year  IMBD_rating  IMBD_votes  \\\n",
              "0       m0  10 things i hate about you  1999          6.9       62847   \n",
              "1       m1  1492: conquest of paradise  1992          6.2       10421   \n",
              "2       m2                  15 minutes  2001          6.1       25854   \n",
              "3       m3       2001: a space odyssey  1968          8.4      163227   \n",
              "4       m4                     48 hrs.  1982          6.9       22289   \n",
              "\n",
              "                                     genres  \n",
              "0                         [comedy, romance]  \n",
              "1    [adventure, biography, drama, history]  \n",
              "2          [action, crime, drama, thriller]  \n",
              "3              [adventure, mystery, sci-fi]  \n",
              "4  [action, comedy, crime, drama, thriller]  "
            ]
          },
          "execution_count": 7,
          "metadata": {},
          "output_type": "execute_result"
        }
      ],
      "source": [
        "# create dataframe with conversations\n",
        "df_title = pd.DataFrame({'title': titles})\n",
        "\n",
        "# split into columns\n",
        "df_title = df_title['title'].str.split(r' \\+\\+\\+\\$\\+\\+\\+ ', expand=True)\n",
        "df_title.columns = ['movie_ID','title','year','IMBD_rating','IMBD_votes','genres']\n",
        "\n",
        "# cast types to what they are\n",
        "df_title['IMBD_rating'] = df_title['IMBD_rating'].astype(float)\n",
        "df_title['IMBD_votes'] = df_title['IMBD_votes'].astype(int)\n",
        "# Clean 'year' column using regex (for cases like ' 1989/I ')\n",
        "df_title['year'] = df_title['year'].apply(lambda x: re.sub(r'\\D', '', x))  # \\D means \"no digit\"\n",
        "df_title['year'] = df_title['year'].astype(int)\n",
        "\n",
        "# delete new line character\n",
        "df_title['genres'] = df_title['genres'].str.rstrip('\\n')\n",
        "\n",
        "# set genres_list to list type\n",
        "df_title['genres'] = df_title['genres'].apply(ast.literal_eval)\n",
        "df_title.head(5)"
      ]
    },
    {
      "cell_type": "code",
      "execution_count": 8,
      "metadata": {
        "colab": {
          "base_uri": "https://localhost:8080/",
          "height": 206
        },
        "id": "_pg4O7bBU09L",
        "outputId": "025c376c-da15-4eb2-f0ac-6d052bbce063"
      },
      "outputs": [
        {
          "data": {
            "text/html": [
              "<div>\n",
              "<style scoped>\n",
              "    .dataframe tbody tr th:only-of-type {\n",
              "        vertical-align: middle;\n",
              "    }\n",
              "\n",
              "    .dataframe tbody tr th {\n",
              "        vertical-align: top;\n",
              "    }\n",
              "\n",
              "    .dataframe thead th {\n",
              "        text-align: right;\n",
              "    }\n",
              "</style>\n",
              "<table border=\"1\" class=\"dataframe\">\n",
              "  <thead>\n",
              "    <tr style=\"text-align: right;\">\n",
              "      <th></th>\n",
              "      <th>character_ID</th>\n",
              "      <th>name</th>\n",
              "      <th>movie_ID</th>\n",
              "      <th>movie_title</th>\n",
              "      <th>gender</th>\n",
              "      <th>credits_pos</th>\n",
              "    </tr>\n",
              "  </thead>\n",
              "  <tbody>\n",
              "    <tr>\n",
              "      <th>0</th>\n",
              "      <td>u0</td>\n",
              "      <td>BIANCA</td>\n",
              "      <td>m0</td>\n",
              "      <td>10 things i hate about you</td>\n",
              "      <td>f</td>\n",
              "      <td>4</td>\n",
              "    </tr>\n",
              "    <tr>\n",
              "      <th>1</th>\n",
              "      <td>u1</td>\n",
              "      <td>BRUCE</td>\n",
              "      <td>m0</td>\n",
              "      <td>10 things i hate about you</td>\n",
              "      <td>?</td>\n",
              "      <td>-1</td>\n",
              "    </tr>\n",
              "    <tr>\n",
              "      <th>2</th>\n",
              "      <td>u2</td>\n",
              "      <td>CAMERON</td>\n",
              "      <td>m0</td>\n",
              "      <td>10 things i hate about you</td>\n",
              "      <td>m</td>\n",
              "      <td>3</td>\n",
              "    </tr>\n",
              "    <tr>\n",
              "      <th>3</th>\n",
              "      <td>u3</td>\n",
              "      <td>CHASTITY</td>\n",
              "      <td>m0</td>\n",
              "      <td>10 things i hate about you</td>\n",
              "      <td>?</td>\n",
              "      <td>-1</td>\n",
              "    </tr>\n",
              "    <tr>\n",
              "      <th>4</th>\n",
              "      <td>u4</td>\n",
              "      <td>JOEY</td>\n",
              "      <td>m0</td>\n",
              "      <td>10 things i hate about you</td>\n",
              "      <td>m</td>\n",
              "      <td>6</td>\n",
              "    </tr>\n",
              "  </tbody>\n",
              "</table>\n",
              "</div>"
            ],
            "text/plain": [
              "  character_ID      name movie_ID                 movie_title gender  \\\n",
              "0           u0    BIANCA       m0  10 things i hate about you      f   \n",
              "1           u1     BRUCE       m0  10 things i hate about you      ?   \n",
              "2           u2   CAMERON       m0  10 things i hate about you      m   \n",
              "3           u3  CHASTITY       m0  10 things i hate about you      ?   \n",
              "4           u4      JOEY       m0  10 things i hate about you      m   \n",
              "\n",
              "   credits_pos  \n",
              "0            4  \n",
              "1           -1  \n",
              "2            3  \n",
              "3           -1  \n",
              "4            6  "
            ]
          },
          "execution_count": 8,
          "metadata": {},
          "output_type": "execute_result"
        }
      ],
      "source": [
        "# create dataframe with conversations\n",
        "df_chars = pd.DataFrame({'characters': characters})\n",
        "\n",
        "# split into columns\n",
        "df_chars = df_chars['characters'].str.split(r' \\+\\+\\+\\$\\+\\+\\+ ', expand=True)\n",
        "df_chars.columns = ['character_ID','name','movie_ID','movie_title','gender','credits_pos']\n",
        "\n",
        "# delete new line character\n",
        "df_chars['credits_pos'] = df_chars['credits_pos'].str.rstrip('\\n')\n",
        "\n",
        "# cast credits_pos to int (-1 if unknown)\n",
        "df_chars.loc[df_chars['credits_pos'] == '?', 'credits_pos'] = -1\n",
        "df_chars['credits_pos'] = df_chars['credits_pos'].astype(int)  # max(df_chars['credits_pos']) = 1000\n",
        "\n",
        "df_chars.head(5)"
      ]
    },
    {
      "cell_type": "markdown",
      "metadata": {
        "id": "S9bp3sPyWzFZ"
      },
      "source": [
        "For easier handle of the conversations and lines we'll join them together in one dataframe"
      ]
    },
    {
      "cell_type": "code",
      "execution_count": 9,
      "metadata": {
        "colab": {
          "base_uri": "https://localhost:8080/",
          "height": 424
        },
        "id": "8lm4ECn3mAZr",
        "outputId": "539340c3-2698-4644-eafd-d6654a2d30ac"
      },
      "outputs": [
        {
          "data": {
            "text/html": [
              "<div>\n",
              "<style scoped>\n",
              "    .dataframe tbody tr th:only-of-type {\n",
              "        vertical-align: middle;\n",
              "    }\n",
              "\n",
              "    .dataframe tbody tr th {\n",
              "        vertical-align: top;\n",
              "    }\n",
              "\n",
              "    .dataframe thead th {\n",
              "        text-align: right;\n",
              "    }\n",
              "</style>\n",
              "<table border=\"1\" class=\"dataframe\">\n",
              "  <thead>\n",
              "    <tr style=\"text-align: right;\">\n",
              "      <th></th>\n",
              "      <th>speaker1_ID</th>\n",
              "      <th>speaker2_ID</th>\n",
              "      <th>movie_ID</th>\n",
              "      <th>dialog</th>\n",
              "    </tr>\n",
              "  </thead>\n",
              "  <tbody>\n",
              "    <tr>\n",
              "      <th>0</th>\n",
              "      <td>u0</td>\n",
              "      <td>u2</td>\n",
              "      <td>m0</td>\n",
              "      <td>can we make this quick  roxanne korrine and an...</td>\n",
              "    </tr>\n",
              "    <tr>\n",
              "      <th>1</th>\n",
              "      <td>u0</td>\n",
              "      <td>u2</td>\n",
              "      <td>m0</td>\n",
              "      <td>you are asking me out  that is so cute what is...</td>\n",
              "    </tr>\n",
              "    <tr>\n",
              "      <th>2</th>\n",
              "      <td>u0</td>\n",
              "      <td>u2</td>\n",
              "      <td>m0</td>\n",
              "      <td>no no it's my fault  we did not have a proper ...</td>\n",
              "    </tr>\n",
              "    <tr>\n",
              "      <th>3</th>\n",
              "      <td>u0</td>\n",
              "      <td>u2</td>\n",
              "      <td>m0</td>\n",
              "      <td>why;unsolved mystery  she used to be really po...</td>\n",
              "    </tr>\n",
              "    <tr>\n",
              "      <th>4</th>\n",
              "      <td>u0</td>\n",
              "      <td>u2</td>\n",
              "      <td>m0</td>\n",
              "      <td>gosh if only we could find kat a boyfriend;let...</td>\n",
              "    </tr>\n",
              "    <tr>\n",
              "      <th>...</th>\n",
              "      <td>...</td>\n",
              "      <td>...</td>\n",
              "      <td>...</td>\n",
              "      <td>...</td>\n",
              "    </tr>\n",
              "    <tr>\n",
              "      <th>83092</th>\n",
              "      <td>u9028</td>\n",
              "      <td>u9031</td>\n",
              "      <td>m616</td>\n",
              "      <td>do you think she might be interested in  someo...</td>\n",
              "    </tr>\n",
              "    <tr>\n",
              "      <th>83093</th>\n",
              "      <td>u9028</td>\n",
              "      <td>u9031</td>\n",
              "      <td>m616</td>\n",
              "      <td>choose your targets men that is right watch th...</td>\n",
              "    </tr>\n",
              "    <tr>\n",
              "      <th>83094</th>\n",
              "      <td>u9030</td>\n",
              "      <td>u9034</td>\n",
              "      <td>m616</td>\n",
              "      <td>colonel durnford william vereker i hear you  h...</td>\n",
              "    </tr>\n",
              "    <tr>\n",
              "      <th>83095</th>\n",
              "      <td>u9030</td>\n",
              "      <td>u9034</td>\n",
              "      <td>m616</td>\n",
              "      <td>your orders mr vereker;i am to take the sikali...</td>\n",
              "    </tr>\n",
              "    <tr>\n",
              "      <th>83096</th>\n",
              "      <td>u9030</td>\n",
              "      <td>u9034</td>\n",
              "      <td>m616</td>\n",
              "      <td>well i assure you sir i have no desire to crea...</td>\n",
              "    </tr>\n",
              "  </tbody>\n",
              "</table>\n",
              "<p>83097 rows × 4 columns</p>\n",
              "</div>"
            ],
            "text/plain": [
              "      speaker1_ID speaker2_ID movie_ID  \\\n",
              "0              u0          u2       m0   \n",
              "1              u0          u2       m0   \n",
              "2              u0          u2       m0   \n",
              "3              u0          u2       m0   \n",
              "4              u0          u2       m0   \n",
              "...           ...         ...      ...   \n",
              "83092       u9028       u9031     m616   \n",
              "83093       u9028       u9031     m616   \n",
              "83094       u9030       u9034     m616   \n",
              "83095       u9030       u9034     m616   \n",
              "83096       u9030       u9034     m616   \n",
              "\n",
              "                                                  dialog  \n",
              "0      can we make this quick  roxanne korrine and an...  \n",
              "1      you are asking me out  that is so cute what is...  \n",
              "2      no no it's my fault  we did not have a proper ...  \n",
              "3      why;unsolved mystery  she used to be really po...  \n",
              "4      gosh if only we could find kat a boyfriend;let...  \n",
              "...                                                  ...  \n",
              "83092  do you think she might be interested in  someo...  \n",
              "83093  choose your targets men that is right watch th...  \n",
              "83094  colonel durnford william vereker i hear you  h...  \n",
              "83095  your orders mr vereker;i am to take the sikali...  \n",
              "83096  well i assure you sir i have no desire to crea...  \n",
              "\n",
              "[83097 rows x 4 columns]"
            ]
          },
          "execution_count": 9,
          "metadata": {},
          "output_type": "execute_result"
        }
      ],
      "source": [
        "# Create a guide index\n",
        "df_conv['index'] = df_conv.index\n",
        "# Expand list into all sub item lines\n",
        "expanded_lines = df_conv.explode('lines_list')\n",
        "# Reset index of expanded df\n",
        "expanded_lines.reset_index(drop=True, inplace=True)\n",
        "# merge the line with line ids\n",
        "merged_df = pd.merge(\n",
        "    expanded_lines,\n",
        "    df_lines,\n",
        "    left_on='lines_list',\n",
        "    right_on='line_ID',\n",
        "    how='inner'\n",
        ")\n",
        "\n",
        "# Select relevant columns and group by the guide index\n",
        "merged_df = merged_df[['speaker1_ID', 'speaker2_ID', 'movie_ID', 'lines_list', 'index', 'clean_text']]\n",
        "merged_df = merged_df.groupby(['index','speaker1_ID', 'speaker2_ID', 'movie_ID'])['clean_text'].apply(list).reset_index()\n",
        "merged_df = merged_df.rename(columns={'clean_text': 'dialog'})\n",
        "\n",
        "# convert dialog to string, not list\n",
        "merged_df['dialog'] = merged_df['dialog'].apply(lambda x: ';'.join(x))\n",
        "dialog_df = merged_df.drop(['index'], axis=1)\n",
        "\n",
        "dialog_df"
      ]
    },
    {
      "cell_type": "code",
      "execution_count": 10,
      "metadata": {
        "colab": {
          "base_uri": "https://localhost:8080/",
          "height": 87
        },
        "id": "v3WiqkM92fwY",
        "outputId": "87adbc4e-98b6-4101-990f-febb05f32713"
      },
      "outputs": [
        {
          "data": {
            "text/plain": [
              "'i can tell from the tone of your voice dave that you are upset why do not you take a stress pill and get some rest;hal i am in command of this ship i order you to release the manual hibernation control;i am sorry dave but in accordance with subroutine c15324 quote when the crew are dead or incapacitated the computer must assume control unquote i must therefore override your authority now since you are not in any condition to intel ligently exercise it;hal unless you follow my instructions i shall be forced to disconnect you'"
            ]
          },
          "execution_count": 10,
          "metadata": {},
          "output_type": "execute_result"
        }
      ],
      "source": [
        "dialog_df['dialog'][501]"
      ]
    },
    {
      "cell_type": "markdown",
      "metadata": {
        "id": "mobNFqaHk__a"
      },
      "source": [
        "### Preparing dataframes"
      ]
    },
    {
      "cell_type": "markdown",
      "metadata": {
        "id": "Fasa7-g0iGXS"
      },
      "source": [
        "For the character metadata prediction we only need the line and the speaker and not the whole dialog. Then we'll predict the gender and the position on the movie credits based on one line. So let's put in a single dataframe line and character metadata"
      ]
    },
    {
      "cell_type": "code",
      "execution_count": 11,
      "metadata": {
        "colab": {
          "base_uri": "https://localhost:8080/",
          "height": 424
        },
        "id": "8xMzX9mxiF1Y",
        "outputId": "bb8a96ee-0f21-45a9-c55e-b4df98a49353"
      },
      "outputs": [
        {
          "data": {
            "text/html": [
              "<div>\n",
              "<style scoped>\n",
              "    .dataframe tbody tr th:only-of-type {\n",
              "        vertical-align: middle;\n",
              "    }\n",
              "\n",
              "    .dataframe tbody tr th {\n",
              "        vertical-align: top;\n",
              "    }\n",
              "\n",
              "    .dataframe thead th {\n",
              "        text-align: right;\n",
              "    }\n",
              "</style>\n",
              "<table border=\"1\" class=\"dataframe\">\n",
              "  <thead>\n",
              "    <tr style=\"text-align: right;\">\n",
              "      <th></th>\n",
              "      <th>line_ID</th>\n",
              "      <th>speaker_ID</th>\n",
              "      <th>movie_ID</th>\n",
              "      <th>speaker</th>\n",
              "      <th>line</th>\n",
              "      <th>movie_title</th>\n",
              "      <th>gender</th>\n",
              "      <th>credits_pos</th>\n",
              "    </tr>\n",
              "  </thead>\n",
              "  <tbody>\n",
              "    <tr>\n",
              "      <th>0</th>\n",
              "      <td>L1045</td>\n",
              "      <td>u0</td>\n",
              "      <td>m0</td>\n",
              "      <td>BIANCA</td>\n",
              "      <td>they do not</td>\n",
              "      <td>10 things i hate about you</td>\n",
              "      <td>f</td>\n",
              "      <td>4</td>\n",
              "    </tr>\n",
              "    <tr>\n",
              "      <th>1</th>\n",
              "      <td>L1044</td>\n",
              "      <td>u2</td>\n",
              "      <td>m0</td>\n",
              "      <td>CAMERON</td>\n",
              "      <td>they do to</td>\n",
              "      <td>10 things i hate about you</td>\n",
              "      <td>m</td>\n",
              "      <td>3</td>\n",
              "    </tr>\n",
              "    <tr>\n",
              "      <th>2</th>\n",
              "      <td>L985</td>\n",
              "      <td>u0</td>\n",
              "      <td>m0</td>\n",
              "      <td>BIANCA</td>\n",
              "      <td>i hope so</td>\n",
              "      <td>10 things i hate about you</td>\n",
              "      <td>f</td>\n",
              "      <td>4</td>\n",
              "    </tr>\n",
              "    <tr>\n",
              "      <th>3</th>\n",
              "      <td>L984</td>\n",
              "      <td>u2</td>\n",
              "      <td>m0</td>\n",
              "      <td>CAMERON</td>\n",
              "      <td>she okay</td>\n",
              "      <td>10 things i hate about you</td>\n",
              "      <td>m</td>\n",
              "      <td>3</td>\n",
              "    </tr>\n",
              "    <tr>\n",
              "      <th>4</th>\n",
              "      <td>L925</td>\n",
              "      <td>u0</td>\n",
              "      <td>m0</td>\n",
              "      <td>BIANCA</td>\n",
              "      <td>let's go</td>\n",
              "      <td>10 things i hate about you</td>\n",
              "      <td>f</td>\n",
              "      <td>4</td>\n",
              "    </tr>\n",
              "    <tr>\n",
              "      <th>...</th>\n",
              "      <td>...</td>\n",
              "      <td>...</td>\n",
              "      <td>...</td>\n",
              "      <td>...</td>\n",
              "      <td>...</td>\n",
              "      <td>...</td>\n",
              "      <td>...</td>\n",
              "      <td>...</td>\n",
              "    </tr>\n",
              "    <tr>\n",
              "      <th>304708</th>\n",
              "      <td>L666371</td>\n",
              "      <td>u9030</td>\n",
              "      <td>m616</td>\n",
              "      <td>DURNFORD</td>\n",
              "      <td>lord chelmsford seems to want me to stay back ...</td>\n",
              "      <td>zulu dawn</td>\n",
              "      <td>?</td>\n",
              "      <td>-1</td>\n",
              "    </tr>\n",
              "    <tr>\n",
              "      <th>304709</th>\n",
              "      <td>L666370</td>\n",
              "      <td>u9034</td>\n",
              "      <td>m616</td>\n",
              "      <td>VEREKER</td>\n",
              "      <td>i am to take the sikali with the main column t...</td>\n",
              "      <td>zulu dawn</td>\n",
              "      <td>?</td>\n",
              "      <td>-1</td>\n",
              "    </tr>\n",
              "    <tr>\n",
              "      <th>304710</th>\n",
              "      <td>L666369</td>\n",
              "      <td>u9030</td>\n",
              "      <td>m616</td>\n",
              "      <td>DURNFORD</td>\n",
              "      <td>your orders mr vereker</td>\n",
              "      <td>zulu dawn</td>\n",
              "      <td>?</td>\n",
              "      <td>-1</td>\n",
              "    </tr>\n",
              "    <tr>\n",
              "      <th>304711</th>\n",
              "      <td>L666257</td>\n",
              "      <td>u9030</td>\n",
              "      <td>m616</td>\n",
              "      <td>DURNFORD</td>\n",
              "      <td>good ones yes mr vereker gentlemen who can rid...</td>\n",
              "      <td>zulu dawn</td>\n",
              "      <td>?</td>\n",
              "      <td>-1</td>\n",
              "    </tr>\n",
              "    <tr>\n",
              "      <th>304712</th>\n",
              "      <td>L666256</td>\n",
              "      <td>u9034</td>\n",
              "      <td>m616</td>\n",
              "      <td>VEREKER</td>\n",
              "      <td>colonel durnford william vereker i hear you  h...</td>\n",
              "      <td>zulu dawn</td>\n",
              "      <td>?</td>\n",
              "      <td>-1</td>\n",
              "    </tr>\n",
              "  </tbody>\n",
              "</table>\n",
              "<p>304713 rows × 8 columns</p>\n",
              "</div>"
            ],
            "text/plain": [
              "        line_ID speaker_ID movie_ID   speaker  \\\n",
              "0         L1045         u0       m0    BIANCA   \n",
              "1         L1044         u2       m0   CAMERON   \n",
              "2          L985         u0       m0    BIANCA   \n",
              "3          L984         u2       m0   CAMERON   \n",
              "4          L925         u0       m0    BIANCA   \n",
              "...         ...        ...      ...       ...   \n",
              "304708  L666371      u9030     m616  DURNFORD   \n",
              "304709  L666370      u9034     m616   VEREKER   \n",
              "304710  L666369      u9030     m616  DURNFORD   \n",
              "304711  L666257      u9030     m616  DURNFORD   \n",
              "304712  L666256      u9034     m616   VEREKER   \n",
              "\n",
              "                                                     line  \\\n",
              "0                                             they do not   \n",
              "1                                              they do to   \n",
              "2                                               i hope so   \n",
              "3                                                she okay   \n",
              "4                                                let's go   \n",
              "...                                                   ...   \n",
              "304708  lord chelmsford seems to want me to stay back ...   \n",
              "304709  i am to take the sikali with the main column t...   \n",
              "304710                             your orders mr vereker   \n",
              "304711  good ones yes mr vereker gentlemen who can rid...   \n",
              "304712  colonel durnford william vereker i hear you  h...   \n",
              "\n",
              "                       movie_title gender  credits_pos  \n",
              "0       10 things i hate about you      f            4  \n",
              "1       10 things i hate about you      m            3  \n",
              "2       10 things i hate about you      f            4  \n",
              "3       10 things i hate about you      m            3  \n",
              "4       10 things i hate about you      f            4  \n",
              "...                            ...    ...          ...  \n",
              "304708                   zulu dawn      ?           -1  \n",
              "304709                   zulu dawn      ?           -1  \n",
              "304710                   zulu dawn      ?           -1  \n",
              "304711                   zulu dawn      ?           -1  \n",
              "304712                   zulu dawn      ?           -1  \n",
              "\n",
              "[304713 rows x 8 columns]"
            ]
          },
          "execution_count": 11,
          "metadata": {},
          "output_type": "execute_result"
        }
      ],
      "source": [
        "character_metadata = pd.merge(\n",
        "    df_lines,\n",
        "    df_chars,\n",
        "    left_on='speaker_ID',\n",
        "    right_on='character_ID',\n",
        "    how='inner'\n",
        "\n",
        ")\n",
        "\n",
        "# Select relevant columns and group by the guide index\n",
        "character_metadata = character_metadata[['line_ID', 'speaker_ID', 'movie_ID', 'speaker', 'clean_text', 'movie_title','gender','credits_pos']]\n",
        "character_metadata = character_metadata.rename(columns={'clean_text': 'line'})\n",
        "\n",
        "character_metadata"
      ]
    },
    {
      "cell_type": "markdown",
      "metadata": {
        "id": "Rz_ROS3WWdao"
      },
      "source": [
        "And for the movie metadata prediction we will need the whole dialog. So, let's put the metadata into the dialogs dataframe to make things easier."
      ]
    },
    {
      "cell_type": "code",
      "execution_count": 12,
      "metadata": {
        "colab": {
          "base_uri": "https://localhost:8080/",
          "height": 597
        },
        "id": "6gx3GfK_WnEG",
        "outputId": "2fe67fc9-516a-4d2e-ff7e-ca43801bd00a"
      },
      "outputs": [
        {
          "data": {
            "text/html": [
              "<div>\n",
              "<style scoped>\n",
              "    .dataframe tbody tr th:only-of-type {\n",
              "        vertical-align: middle;\n",
              "    }\n",
              "\n",
              "    .dataframe tbody tr th {\n",
              "        vertical-align: top;\n",
              "    }\n",
              "\n",
              "    .dataframe thead th {\n",
              "        text-align: right;\n",
              "    }\n",
              "</style>\n",
              "<table border=\"1\" class=\"dataframe\">\n",
              "  <thead>\n",
              "    <tr style=\"text-align: right;\">\n",
              "      <th></th>\n",
              "      <th>speaker1_ID</th>\n",
              "      <th>speaker2_ID</th>\n",
              "      <th>movie_ID</th>\n",
              "      <th>dialog</th>\n",
              "      <th>title</th>\n",
              "      <th>year</th>\n",
              "      <th>IMBD_rating</th>\n",
              "      <th>IMBD_votes</th>\n",
              "      <th>genres</th>\n",
              "    </tr>\n",
              "  </thead>\n",
              "  <tbody>\n",
              "    <tr>\n",
              "      <th>0</th>\n",
              "      <td>u0</td>\n",
              "      <td>u2</td>\n",
              "      <td>m0</td>\n",
              "      <td>can we make this quick  roxanne korrine and an...</td>\n",
              "      <td>10 things i hate about you</td>\n",
              "      <td>1999</td>\n",
              "      <td>6.9</td>\n",
              "      <td>62847</td>\n",
              "      <td>[comedy, romance]</td>\n",
              "    </tr>\n",
              "    <tr>\n",
              "      <th>1</th>\n",
              "      <td>u0</td>\n",
              "      <td>u2</td>\n",
              "      <td>m0</td>\n",
              "      <td>you are asking me out  that is so cute what is...</td>\n",
              "      <td>10 things i hate about you</td>\n",
              "      <td>1999</td>\n",
              "      <td>6.9</td>\n",
              "      <td>62847</td>\n",
              "      <td>[comedy, romance]</td>\n",
              "    </tr>\n",
              "    <tr>\n",
              "      <th>2</th>\n",
              "      <td>u0</td>\n",
              "      <td>u2</td>\n",
              "      <td>m0</td>\n",
              "      <td>no no it's my fault  we did not have a proper ...</td>\n",
              "      <td>10 things i hate about you</td>\n",
              "      <td>1999</td>\n",
              "      <td>6.9</td>\n",
              "      <td>62847</td>\n",
              "      <td>[comedy, romance]</td>\n",
              "    </tr>\n",
              "    <tr>\n",
              "      <th>3</th>\n",
              "      <td>u0</td>\n",
              "      <td>u2</td>\n",
              "      <td>m0</td>\n",
              "      <td>why;unsolved mystery  she used to be really po...</td>\n",
              "      <td>10 things i hate about you</td>\n",
              "      <td>1999</td>\n",
              "      <td>6.9</td>\n",
              "      <td>62847</td>\n",
              "      <td>[comedy, romance]</td>\n",
              "    </tr>\n",
              "    <tr>\n",
              "      <th>4</th>\n",
              "      <td>u0</td>\n",
              "      <td>u2</td>\n",
              "      <td>m0</td>\n",
              "      <td>gosh if only we could find kat a boyfriend;let...</td>\n",
              "      <td>10 things i hate about you</td>\n",
              "      <td>1999</td>\n",
              "      <td>6.9</td>\n",
              "      <td>62847</td>\n",
              "      <td>[comedy, romance]</td>\n",
              "    </tr>\n",
              "    <tr>\n",
              "      <th>...</th>\n",
              "      <td>...</td>\n",
              "      <td>...</td>\n",
              "      <td>...</td>\n",
              "      <td>...</td>\n",
              "      <td>...</td>\n",
              "      <td>...</td>\n",
              "      <td>...</td>\n",
              "      <td>...</td>\n",
              "      <td>...</td>\n",
              "    </tr>\n",
              "    <tr>\n",
              "      <th>83092</th>\n",
              "      <td>u9028</td>\n",
              "      <td>u9031</td>\n",
              "      <td>m616</td>\n",
              "      <td>do you think she might be interested in  someo...</td>\n",
              "      <td>zulu dawn</td>\n",
              "      <td>1979</td>\n",
              "      <td>6.4</td>\n",
              "      <td>1911</td>\n",
              "      <td>[action, adventure, drama, history, war]</td>\n",
              "    </tr>\n",
              "    <tr>\n",
              "      <th>83093</th>\n",
              "      <td>u9028</td>\n",
              "      <td>u9031</td>\n",
              "      <td>m616</td>\n",
              "      <td>choose your targets men that is right watch th...</td>\n",
              "      <td>zulu dawn</td>\n",
              "      <td>1979</td>\n",
              "      <td>6.4</td>\n",
              "      <td>1911</td>\n",
              "      <td>[action, adventure, drama, history, war]</td>\n",
              "    </tr>\n",
              "    <tr>\n",
              "      <th>83094</th>\n",
              "      <td>u9030</td>\n",
              "      <td>u9034</td>\n",
              "      <td>m616</td>\n",
              "      <td>colonel durnford william vereker i hear you  h...</td>\n",
              "      <td>zulu dawn</td>\n",
              "      <td>1979</td>\n",
              "      <td>6.4</td>\n",
              "      <td>1911</td>\n",
              "      <td>[action, adventure, drama, history, war]</td>\n",
              "    </tr>\n",
              "    <tr>\n",
              "      <th>83095</th>\n",
              "      <td>u9030</td>\n",
              "      <td>u9034</td>\n",
              "      <td>m616</td>\n",
              "      <td>your orders mr vereker;i am to take the sikali...</td>\n",
              "      <td>zulu dawn</td>\n",
              "      <td>1979</td>\n",
              "      <td>6.4</td>\n",
              "      <td>1911</td>\n",
              "      <td>[action, adventure, drama, history, war]</td>\n",
              "    </tr>\n",
              "    <tr>\n",
              "      <th>83096</th>\n",
              "      <td>u9030</td>\n",
              "      <td>u9034</td>\n",
              "      <td>m616</td>\n",
              "      <td>well i assure you sir i have no desire to crea...</td>\n",
              "      <td>zulu dawn</td>\n",
              "      <td>1979</td>\n",
              "      <td>6.4</td>\n",
              "      <td>1911</td>\n",
              "      <td>[action, adventure, drama, history, war]</td>\n",
              "    </tr>\n",
              "  </tbody>\n",
              "</table>\n",
              "<p>83097 rows × 9 columns</p>\n",
              "</div>"
            ],
            "text/plain": [
              "      speaker1_ID speaker2_ID movie_ID  \\\n",
              "0              u0          u2       m0   \n",
              "1              u0          u2       m0   \n",
              "2              u0          u2       m0   \n",
              "3              u0          u2       m0   \n",
              "4              u0          u2       m0   \n",
              "...           ...         ...      ...   \n",
              "83092       u9028       u9031     m616   \n",
              "83093       u9028       u9031     m616   \n",
              "83094       u9030       u9034     m616   \n",
              "83095       u9030       u9034     m616   \n",
              "83096       u9030       u9034     m616   \n",
              "\n",
              "                                                  dialog  \\\n",
              "0      can we make this quick  roxanne korrine and an...   \n",
              "1      you are asking me out  that is so cute what is...   \n",
              "2      no no it's my fault  we did not have a proper ...   \n",
              "3      why;unsolved mystery  she used to be really po...   \n",
              "4      gosh if only we could find kat a boyfriend;let...   \n",
              "...                                                  ...   \n",
              "83092  do you think she might be interested in  someo...   \n",
              "83093  choose your targets men that is right watch th...   \n",
              "83094  colonel durnford william vereker i hear you  h...   \n",
              "83095  your orders mr vereker;i am to take the sikali...   \n",
              "83096  well i assure you sir i have no desire to crea...   \n",
              "\n",
              "                            title  year  IMBD_rating  IMBD_votes  \\\n",
              "0      10 things i hate about you  1999          6.9       62847   \n",
              "1      10 things i hate about you  1999          6.9       62847   \n",
              "2      10 things i hate about you  1999          6.9       62847   \n",
              "3      10 things i hate about you  1999          6.9       62847   \n",
              "4      10 things i hate about you  1999          6.9       62847   \n",
              "...                           ...   ...          ...         ...   \n",
              "83092                   zulu dawn  1979          6.4        1911   \n",
              "83093                   zulu dawn  1979          6.4        1911   \n",
              "83094                   zulu dawn  1979          6.4        1911   \n",
              "83095                   zulu dawn  1979          6.4        1911   \n",
              "83096                   zulu dawn  1979          6.4        1911   \n",
              "\n",
              "                                         genres  \n",
              "0                             [comedy, romance]  \n",
              "1                             [comedy, romance]  \n",
              "2                             [comedy, romance]  \n",
              "3                             [comedy, romance]  \n",
              "4                             [comedy, romance]  \n",
              "...                                         ...  \n",
              "83092  [action, adventure, drama, history, war]  \n",
              "83093  [action, adventure, drama, history, war]  \n",
              "83094  [action, adventure, drama, history, war]  \n",
              "83095  [action, adventure, drama, history, war]  \n",
              "83096  [action, adventure, drama, history, war]  \n",
              "\n",
              "[83097 rows x 9 columns]"
            ]
          },
          "execution_count": 12,
          "metadata": {},
          "output_type": "execute_result"
        }
      ],
      "source": [
        "movie_metadata = pd.merge(\n",
        "    dialog_df,\n",
        "    df_title,\n",
        "    left_on='movie_ID',\n",
        "    right_on='movie_ID',\n",
        "    how='inner'\n",
        ")\n",
        "\n",
        "movie_metadata"
      ]
    },
    {
      "cell_type": "markdown",
      "metadata": {
        "id": "uCd-syzelGvs"
      },
      "source": [
        "## Vectorizing"
      ]
    },
    {
      "cell_type": "code",
      "execution_count": 13,
      "metadata": {
        "id": "vVg-_ciIl6GS"
      },
      "outputs": [],
      "source": [
        "vec_lines = TfidfVectorizer(max_df=0.8, min_df=5, stop_words='english', max_features=1000)"
      ]
    },
    {
      "cell_type": "markdown",
      "metadata": {
        "id": "XZbdGhqglQG3"
      },
      "source": [
        "### Vectorizing lines"
      ]
    },
    {
      "cell_type": "code",
      "execution_count": 14,
      "metadata": {
        "colab": {
          "base_uri": "https://localhost:8080/",
          "height": 444
        },
        "id": "ThuEVblXlZQH",
        "outputId": "22c80834-e028-43ec-ddde-04cd852fa943"
      },
      "outputs": [
        {
          "data": {
            "text/html": [
              "<div>\n",
              "<style scoped>\n",
              "    .dataframe tbody tr th:only-of-type {\n",
              "        vertical-align: middle;\n",
              "    }\n",
              "\n",
              "    .dataframe tbody tr th {\n",
              "        vertical-align: top;\n",
              "    }\n",
              "\n",
              "    .dataframe thead th {\n",
              "        text-align: right;\n",
              "    }\n",
              "</style>\n",
              "<table border=\"1\" class=\"dataframe\">\n",
              "  <thead>\n",
              "    <tr style=\"text-align: right;\">\n",
              "      <th></th>\n",
              "      <th>able</th>\n",
              "      <th>absolutely</th>\n",
              "      <th>accept</th>\n",
              "      <th>accident</th>\n",
              "      <th>account</th>\n",
              "      <th>act</th>\n",
              "      <th>acting</th>\n",
              "      <th>action</th>\n",
              "      <th>actually</th>\n",
              "      <th>address</th>\n",
              "      <th>...</th>\n",
              "      <th>wrong</th>\n",
              "      <th>wrote</th>\n",
              "      <th>ya</th>\n",
              "      <th>yeah</th>\n",
              "      <th>year</th>\n",
              "      <th>years</th>\n",
              "      <th>yes</th>\n",
              "      <th>yesterday</th>\n",
              "      <th>york</th>\n",
              "      <th>young</th>\n",
              "    </tr>\n",
              "  </thead>\n",
              "  <tbody>\n",
              "    <tr>\n",
              "      <th>0</th>\n",
              "      <td>0.0</td>\n",
              "      <td>0.0</td>\n",
              "      <td>0.0</td>\n",
              "      <td>0.0</td>\n",
              "      <td>0.0</td>\n",
              "      <td>0.0</td>\n",
              "      <td>0.0</td>\n",
              "      <td>0.0</td>\n",
              "      <td>0.0</td>\n",
              "      <td>0.0</td>\n",
              "      <td>...</td>\n",
              "      <td>0.0</td>\n",
              "      <td>0.0</td>\n",
              "      <td>0.0</td>\n",
              "      <td>0.0</td>\n",
              "      <td>0.0</td>\n",
              "      <td>0.0</td>\n",
              "      <td>0.000000</td>\n",
              "      <td>0.0</td>\n",
              "      <td>0.0</td>\n",
              "      <td>0.0</td>\n",
              "    </tr>\n",
              "    <tr>\n",
              "      <th>1</th>\n",
              "      <td>0.0</td>\n",
              "      <td>0.0</td>\n",
              "      <td>0.0</td>\n",
              "      <td>0.0</td>\n",
              "      <td>0.0</td>\n",
              "      <td>0.0</td>\n",
              "      <td>0.0</td>\n",
              "      <td>0.0</td>\n",
              "      <td>0.0</td>\n",
              "      <td>0.0</td>\n",
              "      <td>...</td>\n",
              "      <td>0.0</td>\n",
              "      <td>0.0</td>\n",
              "      <td>0.0</td>\n",
              "      <td>0.0</td>\n",
              "      <td>0.0</td>\n",
              "      <td>0.0</td>\n",
              "      <td>0.000000</td>\n",
              "      <td>0.0</td>\n",
              "      <td>0.0</td>\n",
              "      <td>0.0</td>\n",
              "    </tr>\n",
              "    <tr>\n",
              "      <th>2</th>\n",
              "      <td>0.0</td>\n",
              "      <td>0.0</td>\n",
              "      <td>0.0</td>\n",
              "      <td>0.0</td>\n",
              "      <td>0.0</td>\n",
              "      <td>0.0</td>\n",
              "      <td>0.0</td>\n",
              "      <td>0.0</td>\n",
              "      <td>0.0</td>\n",
              "      <td>0.0</td>\n",
              "      <td>...</td>\n",
              "      <td>0.0</td>\n",
              "      <td>0.0</td>\n",
              "      <td>0.0</td>\n",
              "      <td>0.0</td>\n",
              "      <td>0.0</td>\n",
              "      <td>0.0</td>\n",
              "      <td>0.000000</td>\n",
              "      <td>0.0</td>\n",
              "      <td>0.0</td>\n",
              "      <td>0.0</td>\n",
              "    </tr>\n",
              "    <tr>\n",
              "      <th>3</th>\n",
              "      <td>0.0</td>\n",
              "      <td>0.0</td>\n",
              "      <td>0.0</td>\n",
              "      <td>0.0</td>\n",
              "      <td>0.0</td>\n",
              "      <td>0.0</td>\n",
              "      <td>0.0</td>\n",
              "      <td>0.0</td>\n",
              "      <td>0.0</td>\n",
              "      <td>0.0</td>\n",
              "      <td>...</td>\n",
              "      <td>0.0</td>\n",
              "      <td>0.0</td>\n",
              "      <td>0.0</td>\n",
              "      <td>0.0</td>\n",
              "      <td>0.0</td>\n",
              "      <td>0.0</td>\n",
              "      <td>0.000000</td>\n",
              "      <td>0.0</td>\n",
              "      <td>0.0</td>\n",
              "      <td>0.0</td>\n",
              "    </tr>\n",
              "    <tr>\n",
              "      <th>4</th>\n",
              "      <td>0.0</td>\n",
              "      <td>0.0</td>\n",
              "      <td>0.0</td>\n",
              "      <td>0.0</td>\n",
              "      <td>0.0</td>\n",
              "      <td>0.0</td>\n",
              "      <td>0.0</td>\n",
              "      <td>0.0</td>\n",
              "      <td>0.0</td>\n",
              "      <td>0.0</td>\n",
              "      <td>...</td>\n",
              "      <td>0.0</td>\n",
              "      <td>0.0</td>\n",
              "      <td>0.0</td>\n",
              "      <td>0.0</td>\n",
              "      <td>0.0</td>\n",
              "      <td>0.0</td>\n",
              "      <td>0.000000</td>\n",
              "      <td>0.0</td>\n",
              "      <td>0.0</td>\n",
              "      <td>0.0</td>\n",
              "    </tr>\n",
              "    <tr>\n",
              "      <th>...</th>\n",
              "      <td>...</td>\n",
              "      <td>...</td>\n",
              "      <td>...</td>\n",
              "      <td>...</td>\n",
              "      <td>...</td>\n",
              "      <td>...</td>\n",
              "      <td>...</td>\n",
              "      <td>...</td>\n",
              "      <td>...</td>\n",
              "      <td>...</td>\n",
              "      <td>...</td>\n",
              "      <td>...</td>\n",
              "      <td>...</td>\n",
              "      <td>...</td>\n",
              "      <td>...</td>\n",
              "      <td>...</td>\n",
              "      <td>...</td>\n",
              "      <td>...</td>\n",
              "      <td>...</td>\n",
              "      <td>...</td>\n",
              "      <td>...</td>\n",
              "    </tr>\n",
              "    <tr>\n",
              "      <th>304708</th>\n",
              "      <td>0.0</td>\n",
              "      <td>0.0</td>\n",
              "      <td>0.0</td>\n",
              "      <td>0.0</td>\n",
              "      <td>0.0</td>\n",
              "      <td>0.0</td>\n",
              "      <td>0.0</td>\n",
              "      <td>0.0</td>\n",
              "      <td>0.0</td>\n",
              "      <td>0.0</td>\n",
              "      <td>...</td>\n",
              "      <td>0.0</td>\n",
              "      <td>0.0</td>\n",
              "      <td>0.0</td>\n",
              "      <td>0.0</td>\n",
              "      <td>0.0</td>\n",
              "      <td>0.0</td>\n",
              "      <td>0.000000</td>\n",
              "      <td>0.0</td>\n",
              "      <td>0.0</td>\n",
              "      <td>0.0</td>\n",
              "    </tr>\n",
              "    <tr>\n",
              "      <th>304709</th>\n",
              "      <td>0.0</td>\n",
              "      <td>0.0</td>\n",
              "      <td>0.0</td>\n",
              "      <td>0.0</td>\n",
              "      <td>0.0</td>\n",
              "      <td>0.0</td>\n",
              "      <td>0.0</td>\n",
              "      <td>0.0</td>\n",
              "      <td>0.0</td>\n",
              "      <td>0.0</td>\n",
              "      <td>...</td>\n",
              "      <td>0.0</td>\n",
              "      <td>0.0</td>\n",
              "      <td>0.0</td>\n",
              "      <td>0.0</td>\n",
              "      <td>0.0</td>\n",
              "      <td>0.0</td>\n",
              "      <td>0.000000</td>\n",
              "      <td>0.0</td>\n",
              "      <td>0.0</td>\n",
              "      <td>0.0</td>\n",
              "    </tr>\n",
              "    <tr>\n",
              "      <th>304710</th>\n",
              "      <td>0.0</td>\n",
              "      <td>0.0</td>\n",
              "      <td>0.0</td>\n",
              "      <td>0.0</td>\n",
              "      <td>0.0</td>\n",
              "      <td>0.0</td>\n",
              "      <td>0.0</td>\n",
              "      <td>0.0</td>\n",
              "      <td>0.0</td>\n",
              "      <td>0.0</td>\n",
              "      <td>...</td>\n",
              "      <td>0.0</td>\n",
              "      <td>0.0</td>\n",
              "      <td>0.0</td>\n",
              "      <td>0.0</td>\n",
              "      <td>0.0</td>\n",
              "      <td>0.0</td>\n",
              "      <td>0.000000</td>\n",
              "      <td>0.0</td>\n",
              "      <td>0.0</td>\n",
              "      <td>0.0</td>\n",
              "    </tr>\n",
              "    <tr>\n",
              "      <th>304711</th>\n",
              "      <td>0.0</td>\n",
              "      <td>0.0</td>\n",
              "      <td>0.0</td>\n",
              "      <td>0.0</td>\n",
              "      <td>0.0</td>\n",
              "      <td>0.0</td>\n",
              "      <td>0.0</td>\n",
              "      <td>0.0</td>\n",
              "      <td>0.0</td>\n",
              "      <td>0.0</td>\n",
              "      <td>...</td>\n",
              "      <td>0.0</td>\n",
              "      <td>0.0</td>\n",
              "      <td>0.0</td>\n",
              "      <td>0.0</td>\n",
              "      <td>0.0</td>\n",
              "      <td>0.0</td>\n",
              "      <td>0.268399</td>\n",
              "      <td>0.0</td>\n",
              "      <td>0.0</td>\n",
              "      <td>0.0</td>\n",
              "    </tr>\n",
              "    <tr>\n",
              "      <th>304712</th>\n",
              "      <td>0.0</td>\n",
              "      <td>0.0</td>\n",
              "      <td>0.0</td>\n",
              "      <td>0.0</td>\n",
              "      <td>0.0</td>\n",
              "      <td>0.0</td>\n",
              "      <td>0.0</td>\n",
              "      <td>0.0</td>\n",
              "      <td>0.0</td>\n",
              "      <td>0.0</td>\n",
              "      <td>...</td>\n",
              "      <td>0.0</td>\n",
              "      <td>0.0</td>\n",
              "      <td>0.0</td>\n",
              "      <td>0.0</td>\n",
              "      <td>0.0</td>\n",
              "      <td>0.0</td>\n",
              "      <td>0.000000</td>\n",
              "      <td>0.0</td>\n",
              "      <td>0.0</td>\n",
              "      <td>0.0</td>\n",
              "    </tr>\n",
              "  </tbody>\n",
              "</table>\n",
              "<p>304713 rows × 1000 columns</p>\n",
              "</div>"
            ],
            "text/plain": [
              "        able  absolutely  accept  accident  account  act  acting  action  \\\n",
              "0        0.0         0.0     0.0       0.0      0.0  0.0     0.0     0.0   \n",
              "1        0.0         0.0     0.0       0.0      0.0  0.0     0.0     0.0   \n",
              "2        0.0         0.0     0.0       0.0      0.0  0.0     0.0     0.0   \n",
              "3        0.0         0.0     0.0       0.0      0.0  0.0     0.0     0.0   \n",
              "4        0.0         0.0     0.0       0.0      0.0  0.0     0.0     0.0   \n",
              "...      ...         ...     ...       ...      ...  ...     ...     ...   \n",
              "304708   0.0         0.0     0.0       0.0      0.0  0.0     0.0     0.0   \n",
              "304709   0.0         0.0     0.0       0.0      0.0  0.0     0.0     0.0   \n",
              "304710   0.0         0.0     0.0       0.0      0.0  0.0     0.0     0.0   \n",
              "304711   0.0         0.0     0.0       0.0      0.0  0.0     0.0     0.0   \n",
              "304712   0.0         0.0     0.0       0.0      0.0  0.0     0.0     0.0   \n",
              "\n",
              "        actually  address  ...  wrong  wrote   ya  yeah  year  years  \\\n",
              "0            0.0      0.0  ...    0.0    0.0  0.0   0.0   0.0    0.0   \n",
              "1            0.0      0.0  ...    0.0    0.0  0.0   0.0   0.0    0.0   \n",
              "2            0.0      0.0  ...    0.0    0.0  0.0   0.0   0.0    0.0   \n",
              "3            0.0      0.0  ...    0.0    0.0  0.0   0.0   0.0    0.0   \n",
              "4            0.0      0.0  ...    0.0    0.0  0.0   0.0   0.0    0.0   \n",
              "...          ...      ...  ...    ...    ...  ...   ...   ...    ...   \n",
              "304708       0.0      0.0  ...    0.0    0.0  0.0   0.0   0.0    0.0   \n",
              "304709       0.0      0.0  ...    0.0    0.0  0.0   0.0   0.0    0.0   \n",
              "304710       0.0      0.0  ...    0.0    0.0  0.0   0.0   0.0    0.0   \n",
              "304711       0.0      0.0  ...    0.0    0.0  0.0   0.0   0.0    0.0   \n",
              "304712       0.0      0.0  ...    0.0    0.0  0.0   0.0   0.0    0.0   \n",
              "\n",
              "             yes  yesterday  york  young  \n",
              "0       0.000000        0.0   0.0    0.0  \n",
              "1       0.000000        0.0   0.0    0.0  \n",
              "2       0.000000        0.0   0.0    0.0  \n",
              "3       0.000000        0.0   0.0    0.0  \n",
              "4       0.000000        0.0   0.0    0.0  \n",
              "...          ...        ...   ...    ...  \n",
              "304708  0.000000        0.0   0.0    0.0  \n",
              "304709  0.000000        0.0   0.0    0.0  \n",
              "304710  0.000000        0.0   0.0    0.0  \n",
              "304711  0.268399        0.0   0.0    0.0  \n",
              "304712  0.000000        0.0   0.0    0.0  \n",
              "\n",
              "[304713 rows x 1000 columns]"
            ]
          },
          "execution_count": 14,
          "metadata": {},
          "output_type": "execute_result"
        }
      ],
      "source": [
        "lines_X = vec_lines.fit_transform(character_metadata['line'])\n",
        "tfidf_df = pd.DataFrame(lines_X.toarray(), columns=vec_lines.get_feature_names_out())\n",
        "tfidf_df"
      ]
    },
    {
      "cell_type": "markdown",
      "metadata": {
        "id": "QfDSpTjNlLvc"
      },
      "source": [
        "### Vectorizing dialogs"
      ]
    },
    {
      "cell_type": "code",
      "execution_count": 15,
      "metadata": {
        "id": "i8EzcESChP6A"
      },
      "outputs": [],
      "source": [
        "vec_dial = TfidfVectorizer(max_df=0.8, min_df=5, stop_words='english', max_features=1000)"
      ]
    },
    {
      "cell_type": "markdown",
      "metadata": {
        "id": "A8CnaBIzWmvR"
      },
      "source": [
        "Using the vectorizer (computed in 'otherTasks' notebook) we transform de data to have the dialog in a way we can input it to the model"
      ]
    },
    {
      "cell_type": "code",
      "execution_count": 16,
      "metadata": {
        "colab": {
          "base_uri": "https://localhost:8080/",
          "height": 444
        },
        "id": "aNF4u9S5nQE4",
        "outputId": "37a6acdd-f307-4c0f-a8f4-1cb8a26267fe"
      },
      "outputs": [
        {
          "data": {
            "text/html": [
              "<div>\n",
              "<style scoped>\n",
              "    .dataframe tbody tr th:only-of-type {\n",
              "        vertical-align: middle;\n",
              "    }\n",
              "\n",
              "    .dataframe tbody tr th {\n",
              "        vertical-align: top;\n",
              "    }\n",
              "\n",
              "    .dataframe thead th {\n",
              "        text-align: right;\n",
              "    }\n",
              "</style>\n",
              "<table border=\"1\" class=\"dataframe\">\n",
              "  <thead>\n",
              "    <tr style=\"text-align: right;\">\n",
              "      <th></th>\n",
              "      <th>able</th>\n",
              "      <th>absolutely</th>\n",
              "      <th>accept</th>\n",
              "      <th>accident</th>\n",
              "      <th>account</th>\n",
              "      <th>act</th>\n",
              "      <th>acting</th>\n",
              "      <th>actually</th>\n",
              "      <th>address</th>\n",
              "      <th>admit</th>\n",
              "      <th>...</th>\n",
              "      <th>wrong</th>\n",
              "      <th>wrote</th>\n",
              "      <th>ya</th>\n",
              "      <th>yeah</th>\n",
              "      <th>year</th>\n",
              "      <th>years</th>\n",
              "      <th>yes</th>\n",
              "      <th>yesterday</th>\n",
              "      <th>york</th>\n",
              "      <th>young</th>\n",
              "    </tr>\n",
              "  </thead>\n",
              "  <tbody>\n",
              "    <tr>\n",
              "      <th>0</th>\n",
              "      <td>0.0</td>\n",
              "      <td>0.0</td>\n",
              "      <td>0.0</td>\n",
              "      <td>0.0</td>\n",
              "      <td>0.0</td>\n",
              "      <td>0.0</td>\n",
              "      <td>0.0</td>\n",
              "      <td>0.0</td>\n",
              "      <td>0.0</td>\n",
              "      <td>0.0</td>\n",
              "      <td>...</td>\n",
              "      <td>0.0</td>\n",
              "      <td>0.0</td>\n",
              "      <td>0.0</td>\n",
              "      <td>0.0</td>\n",
              "      <td>0.0</td>\n",
              "      <td>0.0</td>\n",
              "      <td>0.00000</td>\n",
              "      <td>0.0</td>\n",
              "      <td>0.0</td>\n",
              "      <td>0.0</td>\n",
              "    </tr>\n",
              "    <tr>\n",
              "      <th>1</th>\n",
              "      <td>0.0</td>\n",
              "      <td>0.0</td>\n",
              "      <td>0.0</td>\n",
              "      <td>0.0</td>\n",
              "      <td>0.0</td>\n",
              "      <td>0.0</td>\n",
              "      <td>0.0</td>\n",
              "      <td>0.0</td>\n",
              "      <td>0.0</td>\n",
              "      <td>0.0</td>\n",
              "      <td>...</td>\n",
              "      <td>0.0</td>\n",
              "      <td>0.0</td>\n",
              "      <td>0.0</td>\n",
              "      <td>0.0</td>\n",
              "      <td>0.0</td>\n",
              "      <td>0.0</td>\n",
              "      <td>0.00000</td>\n",
              "      <td>0.0</td>\n",
              "      <td>0.0</td>\n",
              "      <td>0.0</td>\n",
              "    </tr>\n",
              "    <tr>\n",
              "      <th>2</th>\n",
              "      <td>0.0</td>\n",
              "      <td>0.0</td>\n",
              "      <td>0.0</td>\n",
              "      <td>0.0</td>\n",
              "      <td>0.0</td>\n",
              "      <td>0.0</td>\n",
              "      <td>0.0</td>\n",
              "      <td>0.0</td>\n",
              "      <td>0.0</td>\n",
              "      <td>0.0</td>\n",
              "      <td>...</td>\n",
              "      <td>0.0</td>\n",
              "      <td>0.0</td>\n",
              "      <td>0.0</td>\n",
              "      <td>0.0</td>\n",
              "      <td>0.0</td>\n",
              "      <td>0.0</td>\n",
              "      <td>0.00000</td>\n",
              "      <td>0.0</td>\n",
              "      <td>0.0</td>\n",
              "      <td>0.0</td>\n",
              "    </tr>\n",
              "    <tr>\n",
              "      <th>3</th>\n",
              "      <td>0.0</td>\n",
              "      <td>0.0</td>\n",
              "      <td>0.0</td>\n",
              "      <td>0.0</td>\n",
              "      <td>0.0</td>\n",
              "      <td>0.0</td>\n",
              "      <td>0.0</td>\n",
              "      <td>0.0</td>\n",
              "      <td>0.0</td>\n",
              "      <td>0.0</td>\n",
              "      <td>...</td>\n",
              "      <td>0.0</td>\n",
              "      <td>0.0</td>\n",
              "      <td>0.0</td>\n",
              "      <td>0.0</td>\n",
              "      <td>0.0</td>\n",
              "      <td>0.0</td>\n",
              "      <td>0.00000</td>\n",
              "      <td>0.0</td>\n",
              "      <td>0.0</td>\n",
              "      <td>0.0</td>\n",
              "    </tr>\n",
              "    <tr>\n",
              "      <th>4</th>\n",
              "      <td>0.0</td>\n",
              "      <td>0.0</td>\n",
              "      <td>0.0</td>\n",
              "      <td>0.0</td>\n",
              "      <td>0.0</td>\n",
              "      <td>0.0</td>\n",
              "      <td>0.0</td>\n",
              "      <td>0.0</td>\n",
              "      <td>0.0</td>\n",
              "      <td>0.0</td>\n",
              "      <td>...</td>\n",
              "      <td>0.0</td>\n",
              "      <td>0.0</td>\n",
              "      <td>0.0</td>\n",
              "      <td>0.0</td>\n",
              "      <td>0.0</td>\n",
              "      <td>0.0</td>\n",
              "      <td>0.00000</td>\n",
              "      <td>0.0</td>\n",
              "      <td>0.0</td>\n",
              "      <td>0.0</td>\n",
              "    </tr>\n",
              "    <tr>\n",
              "      <th>...</th>\n",
              "      <td>...</td>\n",
              "      <td>...</td>\n",
              "      <td>...</td>\n",
              "      <td>...</td>\n",
              "      <td>...</td>\n",
              "      <td>...</td>\n",
              "      <td>...</td>\n",
              "      <td>...</td>\n",
              "      <td>...</td>\n",
              "      <td>...</td>\n",
              "      <td>...</td>\n",
              "      <td>...</td>\n",
              "      <td>...</td>\n",
              "      <td>...</td>\n",
              "      <td>...</td>\n",
              "      <td>...</td>\n",
              "      <td>...</td>\n",
              "      <td>...</td>\n",
              "      <td>...</td>\n",
              "      <td>...</td>\n",
              "      <td>...</td>\n",
              "    </tr>\n",
              "    <tr>\n",
              "      <th>83092</th>\n",
              "      <td>0.0</td>\n",
              "      <td>0.0</td>\n",
              "      <td>0.0</td>\n",
              "      <td>0.0</td>\n",
              "      <td>0.0</td>\n",
              "      <td>0.0</td>\n",
              "      <td>0.0</td>\n",
              "      <td>0.0</td>\n",
              "      <td>0.0</td>\n",
              "      <td>0.0</td>\n",
              "      <td>...</td>\n",
              "      <td>0.0</td>\n",
              "      <td>0.0</td>\n",
              "      <td>0.0</td>\n",
              "      <td>0.0</td>\n",
              "      <td>0.0</td>\n",
              "      <td>0.0</td>\n",
              "      <td>0.00000</td>\n",
              "      <td>0.0</td>\n",
              "      <td>0.0</td>\n",
              "      <td>0.0</td>\n",
              "    </tr>\n",
              "    <tr>\n",
              "      <th>83093</th>\n",
              "      <td>0.0</td>\n",
              "      <td>0.0</td>\n",
              "      <td>0.0</td>\n",
              "      <td>0.0</td>\n",
              "      <td>0.0</td>\n",
              "      <td>0.0</td>\n",
              "      <td>0.0</td>\n",
              "      <td>0.0</td>\n",
              "      <td>0.0</td>\n",
              "      <td>0.0</td>\n",
              "      <td>...</td>\n",
              "      <td>0.0</td>\n",
              "      <td>0.0</td>\n",
              "      <td>0.0</td>\n",
              "      <td>0.0</td>\n",
              "      <td>0.0</td>\n",
              "      <td>0.0</td>\n",
              "      <td>0.00000</td>\n",
              "      <td>0.0</td>\n",
              "      <td>0.0</td>\n",
              "      <td>0.0</td>\n",
              "    </tr>\n",
              "    <tr>\n",
              "      <th>83094</th>\n",
              "      <td>0.0</td>\n",
              "      <td>0.0</td>\n",
              "      <td>0.0</td>\n",
              "      <td>0.0</td>\n",
              "      <td>0.0</td>\n",
              "      <td>0.0</td>\n",
              "      <td>0.0</td>\n",
              "      <td>0.0</td>\n",
              "      <td>0.0</td>\n",
              "      <td>0.0</td>\n",
              "      <td>...</td>\n",
              "      <td>0.0</td>\n",
              "      <td>0.0</td>\n",
              "      <td>0.0</td>\n",
              "      <td>0.0</td>\n",
              "      <td>0.0</td>\n",
              "      <td>0.0</td>\n",
              "      <td>0.21258</td>\n",
              "      <td>0.0</td>\n",
              "      <td>0.0</td>\n",
              "      <td>0.0</td>\n",
              "    </tr>\n",
              "    <tr>\n",
              "      <th>83095</th>\n",
              "      <td>0.0</td>\n",
              "      <td>0.0</td>\n",
              "      <td>0.0</td>\n",
              "      <td>0.0</td>\n",
              "      <td>0.0</td>\n",
              "      <td>0.0</td>\n",
              "      <td>0.0</td>\n",
              "      <td>0.0</td>\n",
              "      <td>0.0</td>\n",
              "      <td>0.0</td>\n",
              "      <td>...</td>\n",
              "      <td>0.0</td>\n",
              "      <td>0.0</td>\n",
              "      <td>0.0</td>\n",
              "      <td>0.0</td>\n",
              "      <td>0.0</td>\n",
              "      <td>0.0</td>\n",
              "      <td>0.00000</td>\n",
              "      <td>0.0</td>\n",
              "      <td>0.0</td>\n",
              "      <td>0.0</td>\n",
              "    </tr>\n",
              "    <tr>\n",
              "      <th>83096</th>\n",
              "      <td>0.0</td>\n",
              "      <td>0.0</td>\n",
              "      <td>0.0</td>\n",
              "      <td>0.0</td>\n",
              "      <td>0.0</td>\n",
              "      <td>0.0</td>\n",
              "      <td>0.0</td>\n",
              "      <td>0.0</td>\n",
              "      <td>0.0</td>\n",
              "      <td>0.0</td>\n",
              "      <td>...</td>\n",
              "      <td>0.0</td>\n",
              "      <td>0.0</td>\n",
              "      <td>0.0</td>\n",
              "      <td>0.0</td>\n",
              "      <td>0.0</td>\n",
              "      <td>0.0</td>\n",
              "      <td>0.00000</td>\n",
              "      <td>0.0</td>\n",
              "      <td>0.0</td>\n",
              "      <td>0.0</td>\n",
              "    </tr>\n",
              "  </tbody>\n",
              "</table>\n",
              "<p>83097 rows × 1000 columns</p>\n",
              "</div>"
            ],
            "text/plain": [
              "       able  absolutely  accept  accident  account  act  acting  actually  \\\n",
              "0       0.0         0.0     0.0       0.0      0.0  0.0     0.0       0.0   \n",
              "1       0.0         0.0     0.0       0.0      0.0  0.0     0.0       0.0   \n",
              "2       0.0         0.0     0.0       0.0      0.0  0.0     0.0       0.0   \n",
              "3       0.0         0.0     0.0       0.0      0.0  0.0     0.0       0.0   \n",
              "4       0.0         0.0     0.0       0.0      0.0  0.0     0.0       0.0   \n",
              "...     ...         ...     ...       ...      ...  ...     ...       ...   \n",
              "83092   0.0         0.0     0.0       0.0      0.0  0.0     0.0       0.0   \n",
              "83093   0.0         0.0     0.0       0.0      0.0  0.0     0.0       0.0   \n",
              "83094   0.0         0.0     0.0       0.0      0.0  0.0     0.0       0.0   \n",
              "83095   0.0         0.0     0.0       0.0      0.0  0.0     0.0       0.0   \n",
              "83096   0.0         0.0     0.0       0.0      0.0  0.0     0.0       0.0   \n",
              "\n",
              "       address  admit  ...  wrong  wrote   ya  yeah  year  years      yes  \\\n",
              "0          0.0    0.0  ...    0.0    0.0  0.0   0.0   0.0    0.0  0.00000   \n",
              "1          0.0    0.0  ...    0.0    0.0  0.0   0.0   0.0    0.0  0.00000   \n",
              "2          0.0    0.0  ...    0.0    0.0  0.0   0.0   0.0    0.0  0.00000   \n",
              "3          0.0    0.0  ...    0.0    0.0  0.0   0.0   0.0    0.0  0.00000   \n",
              "4          0.0    0.0  ...    0.0    0.0  0.0   0.0   0.0    0.0  0.00000   \n",
              "...        ...    ...  ...    ...    ...  ...   ...   ...    ...      ...   \n",
              "83092      0.0    0.0  ...    0.0    0.0  0.0   0.0   0.0    0.0  0.00000   \n",
              "83093      0.0    0.0  ...    0.0    0.0  0.0   0.0   0.0    0.0  0.00000   \n",
              "83094      0.0    0.0  ...    0.0    0.0  0.0   0.0   0.0    0.0  0.21258   \n",
              "83095      0.0    0.0  ...    0.0    0.0  0.0   0.0   0.0    0.0  0.00000   \n",
              "83096      0.0    0.0  ...    0.0    0.0  0.0   0.0   0.0    0.0  0.00000   \n",
              "\n",
              "       yesterday  york  young  \n",
              "0            0.0   0.0    0.0  \n",
              "1            0.0   0.0    0.0  \n",
              "2            0.0   0.0    0.0  \n",
              "3            0.0   0.0    0.0  \n",
              "4            0.0   0.0    0.0  \n",
              "...          ...   ...    ...  \n",
              "83092        0.0   0.0    0.0  \n",
              "83093        0.0   0.0    0.0  \n",
              "83094        0.0   0.0    0.0  \n",
              "83095        0.0   0.0    0.0  \n",
              "83096        0.0   0.0    0.0  \n",
              "\n",
              "[83097 rows x 1000 columns]"
            ]
          },
          "execution_count": 16,
          "metadata": {},
          "output_type": "execute_result"
        }
      ],
      "source": [
        "dialog_X = vec_dial.fit_transform(movie_metadata['dialog'])\n",
        "tfidf_df = pd.DataFrame(dialog_X.toarray(), columns=vec_dial.get_feature_names_out())\n",
        "tfidf_df"
      ]
    },
    {
      "cell_type": "markdown",
      "metadata": {
        "id": "WiiMKARup9F_"
      },
      "source": [
        "## Model Creation\n",
        "\n",
        "Note: don't need to run this section if you already have the `.pkl` models"
      ]
    },
    {
      "cell_type": "markdown",
      "metadata": {
        "id": "Rmfijl06md1Z"
      },
      "source": [
        "### Character metadata models\n",
        "\n",
        "**Input:** Line\n",
        "\n",
        "**Output:**\n",
        "Character metadata:\n",
        "\n",
        "* gender\n",
        "* position on movie *credits*"
      ]
    },
    {
      "cell_type": "markdown",
      "metadata": {
        "id": "RHIR4UthyLCm"
      },
      "source": [
        "#### Gender model"
      ]
    },
    {
      "cell_type": "markdown",
      "metadata": {
        "id": "fmREC7Rg1ZGY"
      },
      "source": [
        "The gender of a character is classified as `F`, `M` or `?`. As it has 3 classes, we must use a classifier model."
      ]
    },
    {
      "cell_type": "code",
      "execution_count": 26,
      "metadata": {
        "colab": {
          "base_uri": "https://localhost:8080/"
        },
        "id": "3Prq_KwoySDi",
        "outputId": "24418589-47a8-4ac0-d459-87b643206d63"
      },
      "outputs": [
        {
          "name": "stdout",
          "output_type": "stream",
          "text": [
            "Gender Prediction Accuracy: 0.49136077974500764\n"
          ]
        }
      ],
      "source": [
        "y_gender = character_metadata['gender']  # Real size y - to uncomment\n",
        "X_in_use = lines_X  # Real size X - to uncomment\n",
        "\n",
        "X_train, X_test, y_train, y_test = train_test_split(X_in_use, y_gender, test_size=0.2, random_state=42)\n",
        "\n",
        "# Using RandomForestClassifier for classification\n",
        "gender_model = RandomForestClassifier()\n",
        "gender_model.fit(X_train, y_train)\n",
        "\n",
        "accuracy = gender_model.score(X_test, y_test)\n",
        "print('Gender Prediction Accuracy:', accuracy)"
      ]
    },
    {
      "cell_type": "markdown",
      "metadata": {
        "id": "0fmqMbjk02pZ"
      },
      "source": [
        "Export model to not hace to train again"
      ]
    },
    {
      "cell_type": "code",
      "execution_count": 29,
      "metadata": {
        "colab": {
          "base_uri": "https://localhost:8080/"
        },
        "id": "3cAG9mVD0ZqK",
        "outputId": "d7236166-3112-4315-bbc2-b65ffa2895ab"
      },
      "outputs": [
        {
          "data": {
            "text/plain": [
              "['gender_model.pkl']"
            ]
          },
          "execution_count": 29,
          "metadata": {},
          "output_type": "execute_result"
        }
      ],
      "source": [
        "joblib.dump(gender_model, 'gender_model.pkl', compress=9)"
      ]
    },
    {
      "cell_type": "markdown",
      "metadata": {
        "id": "L3kon_7ruiMU"
      },
      "source": [
        "#### Credits position model"
      ]
    },
    {
      "cell_type": "markdown",
      "metadata": {
        "id": "0oQcL3cJ1qN-"
      },
      "source": [
        "The position in the credits can be seen as continuous or as a categorical variable, since it's a number but it can also represent how important the character was in the movie. If characters are often ranked as \"lead\", \"supporting\", and \"minor\", it makes sense to classify them into categories. So we will try both Regression and Classification and for the last one classes are the position in the credits (`-1` for unknown, `1` for main character and so on, as it gets bigger the less important the character)."
      ]
    },
    {
      "cell_type": "code",
      "execution_count": 46,
      "metadata": {
        "colab": {
          "base_uri": "https://localhost:8080/"
        },
        "id": "FxoLj5qo1Npk",
        "outputId": "51a6dd8a-a660-4cd4-fb9c-e8b9d5cc7ec3"
      },
      "outputs": [
        {
          "name": "stdout",
          "output_type": "stream",
          "text": [
            "Credits position Accuracy: -0.05991770736540669\n"
          ]
        }
      ],
      "source": [
        "y_pos = character_metadata['credits_pos'] # real size y - to uncomment\n",
        "X_in_use = lines_X # real size X - to uncomment\n",
        "\n",
        "X_train, X_test, y_train, y_test = train_test_split(X_in_use, y_pos, test_size=0.2, random_state=42)\n",
        "\n",
        "# Using RandomForestRegressor for regression\n",
        "credits_pos_model_reg = RandomForestRegressor()\n",
        "credits_pos_model_reg.fit(X_train, y_train)\n",
        "\n",
        "accuracy = credits_pos_model_reg.score(X_test, y_test)\n",
        "print('Credits position Accuracy:', accuracy)"
      ]
    },
    {
      "cell_type": "code",
      "execution_count": 48,
      "metadata": {
        "id": "fy9ct-rJBgvp"
      },
      "outputs": [],
      "source": [
        "joblib.dump(credits_pos_model_reg, 'credits_pos_model_reg.pkl', compress=9)"
      ]
    },
    {
      "cell_type": "code",
      "execution_count": 31,
      "metadata": {
        "colab": {
          "base_uri": "https://localhost:8080/"
        },
        "id": "FVb9EqbBpfdN",
        "outputId": "6287a015-fa5e-4c4a-ea16-669045998fb6"
      },
      "outputs": [
        {
          "name": "stdout",
          "output_type": "stream",
          "text": [
            "Credits position Accuracy: 0.2886467682916824\n"
          ]
        }
      ],
      "source": [
        "y_pos = character_metadata['credits_pos'] # real size y - to uncomment\n",
        "X_in_use = lines_X # real size X - to uncomment\n",
        "\n",
        "X_train, X_test, y_train, y_test = train_test_split(X_in_use, y_pos, test_size=0.2, random_state=42)\n",
        "\n",
        "# Using RandomForestClassifier for classification\n",
        "credits_pos_model_clas = RandomForestClassifier()\n",
        "credits_pos_model_clas.fit(X_train, y_train)\n",
        "\n",
        "accuracy = credits_pos_model_clas.score(X_test, y_test)\n",
        "print('Credits position Accuracy:', accuracy)"
      ]
    },
    {
      "cell_type": "markdown",
      "metadata": {
        "id": "Mq1wWm26SFY0"
      },
      "source": [
        "The score method returns the coefficient of determination R^2\n",
        "The values that can take are as follows:\n",
        "\n",
        "* R^2=1 : Indicates that the model perfectly explains the variance in the test data.\n",
        "* R^2>0 : Indicates that the model has some predictive power, capturing part of the variance in the data.\n",
        "* R^2=0 : Indicates that the model explains none of the variance, equivalent to using the mean of the observed values.\n",
        "* R^2<0 : Indicates that the model is worse than a simple mean, meaning the model is failing to capture the variance in the data."
      ]
    },
    {
      "cell_type": "markdown",
      "metadata": {
        "id": "hR9dProo214H"
      },
      "source": [
        "It looks like it has a better accuracy if the credit position is treated as a clasification. So we'll use that one."
      ]
    },
    {
      "cell_type": "code",
      "execution_count": 32,
      "metadata": {
        "colab": {
          "base_uri": "https://localhost:8080/"
        },
        "id": "na3W2M-K3B5k",
        "outputId": "68fef576-c58e-4ca8-e408-db75719ea001"
      },
      "outputs": [
        {
          "data": {
            "text/plain": [
              "['credits_pos_model_clas.pkl']"
            ]
          },
          "execution_count": 32,
          "metadata": {},
          "output_type": "execute_result"
        }
      ],
      "source": [
        "joblib.dump(credits_pos_model_clas, 'credits_pos_model_clas.pkl', compress=9)"
      ]
    },
    {
      "cell_type": "markdown",
      "metadata": {
        "id": "IvLZ2FUymzpw"
      },
      "source": [
        "### Movie metadata models\n",
        "\n",
        "**Input:** Dialog\n",
        "\n",
        "**Output:** Movie metadata:\n",
        "\n",
        "* genres\n",
        "* release year\n",
        "* IMDB rating\n",
        "* number of IMDB votes"
      ]
    },
    {
      "cell_type": "markdown",
      "metadata": {
        "id": "XTXt3yIg4dVJ"
      },
      "source": [
        "We will create a model for each metadata field"
      ]
    },
    {
      "cell_type": "markdown",
      "metadata": {
        "id": "QSuIGRnl3ZXh"
      },
      "source": [
        "#### Release year model"
      ]
    },
    {
      "cell_type": "code",
      "execution_count": null,
      "metadata": {
        "colab": {
          "base_uri": "https://localhost:8080/"
        },
        "id": "_1sP1sOs3lFT",
        "outputId": "644914c4-7a17-4b8e-81a8-ec30a9822c3c"
      },
      "outputs": [
        {
          "name": "stdout",
          "output_type": "stream",
          "text": [
            "Release Year Prediction Accuracy: 0.2689944802819675\n"
          ]
        }
      ],
      "source": [
        "y_year = movie_metadata['year']  # real size y - to uncomment\n",
        "X_in_use = dialog_X # real size X - to uncomment\n",
        "\n",
        "X_train, X_test, y_train, y_test = train_test_split(X_in_use, y_year, test_size=0.2, random_state=42)\n",
        "\n",
        "release_year_model = RandomForestRegressor()\n",
        "release_year_model.fit(X_train, y_train)\n",
        "\n",
        "accuracy = release_year_model.score(X_test, y_test)\n",
        "print('Release Year Prediction Accuracy:', accuracy)"
      ]
    },
    {
      "cell_type": "code",
      "execution_count": null,
      "metadata": {
        "id": "mnNNWXVsIkGg"
      },
      "outputs": [],
      "source": [
        "joblib.dump(release_year_model, 'release_year_model.pkl', compress=9)"
      ]
    },
    {
      "cell_type": "markdown",
      "metadata": {
        "id": "FlHbn-C14XNU"
      },
      "source": [
        "#### IMDB rating model"
      ]
    },
    {
      "cell_type": "code",
      "execution_count": null,
      "metadata": {
        "colab": {
          "base_uri": "https://localhost:8080/"
        },
        "id": "jh6WP4n14g55",
        "outputId": "dcf850e5-28db-42e5-c215-231fcfe9c150"
      },
      "outputs": [
        {
          "name": "stdout",
          "output_type": "stream",
          "text": [
            "IMDB rating Prediction Accuracy: 0.27930733642047323\n"
          ]
        }
      ],
      "source": [
        "y_rate = movie_metadata['IMBD_rating']  # real size y - to uncomment\n",
        "X_in_use = dialog_X # real size X - to uncomment\n",
        "\n",
        "X_train, X_test, y_train, y_test = train_test_split(X_in_use, y_rate, test_size=0.2, random_state=42)\n",
        "\n",
        "imdb_rating_model = RandomForestRegressor()\n",
        "imdb_rating_model.fit(X_train, y_train)\n",
        "\n",
        "accuracy = imdb_rating_model.score(X_test, y_test)\n",
        "print('IMDB rating Prediction Accuracy:', accuracy)"
      ]
    },
    {
      "cell_type": "code",
      "execution_count": null,
      "metadata": {
        "id": "pvK0ZffeJEwR"
      },
      "outputs": [],
      "source": [
        "joblib.dump(imdb_rating_model, 'imdb_rating_model.pkl', compress=9)"
      ]
    },
    {
      "cell_type": "markdown",
      "metadata": {
        "id": "8fFcImZ04ilR"
      },
      "source": [
        "#### Number of votes model"
      ]
    },
    {
      "cell_type": "code",
      "execution_count": null,
      "metadata": {
        "colab": {
          "base_uri": "https://localhost:8080/"
        },
        "id": "rK22xCCg4n6I",
        "outputId": "5e393f0b-ae95-430f-c1aa-1826a8f42af6"
      },
      "outputs": [
        {
          "name": "stdout",
          "output_type": "stream",
          "text": [
            "IMDB rating Prediction Accuracy: 0.28853147062131657\n"
          ]
        }
      ],
      "source": [
        "y_votes = movie_metadata['IMBD_votes']  # real size y - to uncomment\n",
        "X_in_use = dialog_X # real size X - to uncomment\n",
        "\n",
        "X_train, X_test, y_train, y_test = train_test_split(X_in_use, y_votes, test_size=0.2, random_state=42)\n",
        "\n",
        "votes_model = RandomForestRegressor()\n",
        "votes_model.fit(X_train, y_train)\n",
        "\n",
        "accuracy = votes_model.score(X_test, y_test)\n",
        "print('IMDB rating Prediction Accuracy:', accuracy)"
      ]
    },
    {
      "cell_type": "code",
      "execution_count": null,
      "metadata": {
        "id": "Mz896CXlIojE"
      },
      "outputs": [],
      "source": [
        "joblib.dump(votes_model, 'votes_model.pkl', compress=9)"
      ]
    },
    {
      "cell_type": "markdown",
      "metadata": {
        "id": "pscfhmuz4oYU"
      },
      "source": [
        "#### Genres model"
      ]
    },
    {
      "cell_type": "markdown",
      "metadata": {
        "id": "NWHjcYmeqrl1"
      },
      "source": [
        "This is particular case, since what we are trying to predict is a list of elements (genres). This problem is called MultiLabel classification, that is why we'll use a MultiLabelBinerizer"
      ]
    },
    {
      "cell_type": "code",
      "execution_count": null,
      "metadata": {
        "colab": {
          "base_uri": "https://localhost:8080/"
        },
        "id": "IxfvxbQ-4qiq",
        "outputId": "aa73c041-7ebc-4a83-82f4-6d84fc9a06a0"
      },
      "outputs": [
        {
          "name": "stdout",
          "output_type": "stream",
          "text": [
            "Genre Prediction Accuracy: 0.7333333333333333\n"
          ]
        }
      ],
      "source": [
        "# Binarize the list of genres\n",
        "mlb = MultiLabelBinarizer()\n",
        "y_genres = mlb.fit_transform(movie_metadata['genres'])  # real size y - to uncomment\n",
        "X_in_use = dialog_X # real size X - to uncomment\n",
        "\n",
        "X_train, X_test, y_train, y_test = train_test_split(X_in_use, y_genres, test_size=0.2, random_state=42)\n",
        "\n",
        "genres_model = OneVsRestClassifier(RandomForestClassifier())\n",
        "genres_model.fit(X_train, y_train)\n",
        "\n",
        "accuracy = genres_model.score(X_test, y_test)\n",
        "print('Genre Prediction Accuracy:', accuracy)"
      ]
    },
    {
      "cell_type": "code",
      "execution_count": null,
      "metadata": {
        "id": "4A5sgjGbJU0J"
      },
      "outputs": [],
      "source": [
        "joblib.dump(genres_model, 'genres_model.pkl', compress=9)"
      ]
    },
    {
      "cell_type": "markdown",
      "metadata": {
        "id": "gsoABBU-yP9y"
      },
      "source": [
        "## Meta data prediction task\n",
        "\n",
        "\n"
      ]
    },
    {
      "cell_type": "markdown",
      "metadata": {
        "id": "QL4z3SmDrvxM"
      },
      "source": [
        "### Prediction of character metadata for an specific line."
      ]
    },
    {
      "cell_type": "code",
      "execution_count": 17,
      "metadata": {
        "id": "CuBT0bbvrvxk"
      },
      "outputs": [],
      "source": [
        "def predict_character_metadata(line):\n",
        "    line_vector = vec_lines.transform([line])\n",
        "\n",
        "    gender = gender_model.predict(line_vector)\n",
        "    credits_pos = credits_pos_model_clas.predict(line_vector)\n",
        "    # credits_pos_model_clas has a higher accuracy than credits_pos_model_reg\n",
        "\n",
        "    return {\n",
        "        'gender': gender[0],\n",
        "        'credits_pos': credits_pos[0]\n",
        "    }\n"
      ]
    },
    {
      "cell_type": "markdown",
      "metadata": {
        "id": "ESbmjQOJq4Mw"
      },
      "source": [
        "### Prediction of movie metadata for specific dialog."
      ]
    },
    {
      "cell_type": "code",
      "execution_count": 22,
      "metadata": {
        "id": "yvgOoeMo3WZ-"
      },
      "outputs": [],
      "source": [
        "def predict_movie_metadata(dialogue):\n",
        "    mlb = MultiLabelBinarizer()\n",
        "    mlb.fit_transform(movie_metadata['genres'])\n",
        "\n",
        "    dialogue_vector = vec_dial.transform([dialogue])\n",
        "    genres = mlb.inverse_transform(genres_model.predict(dialogue_vector))\n",
        "    release_year = release_year_model.predict(dialogue_vector)\n",
        "    imdb_rating = imdb_rating_model.predict(dialogue_vector)\n",
        "    number_of_votes = votes_model.predict(dialogue_vector)\n",
        "\n",
        "    return {\n",
        "        'genres': list(genres[0]),\n",
        "        'year': int(release_year[0]),\n",
        "        'IMBD_rating': round(imdb_rating[0],1),\n",
        "        'IMBD_votes': int(number_of_votes[0])\n",
        "    }\n"
      ]
    },
    {
      "cell_type": "markdown",
      "metadata": {
        "id": "MS8DZ8PS9wnr"
      },
      "source": [
        "## Testing"
      ]
    },
    {
      "cell_type": "markdown",
      "metadata": {
        "id": "9EsiO6qm1Yix"
      },
      "source": [
        "Run the following cell to load the `.pkl` trained models. \n",
        "**Only run it if you haven't run all the previous ones**.\n",
        "\n"
      ]
    },
    {
      "cell_type": "code",
      "execution_count": 19,
      "metadata": {
        "id": "NnxsP_jP1YEp"
      },
      "outputs": [],
      "source": [
        "model_folder = 'Metadata-models/'\n",
        "gender_model = joblib.load(f'{model_folder}gender_model.pkl')\n",
        "credits_pos_model_clas = joblib.load(f'{model_folder}credits_pos_model_clas.pkl')\n",
        "genres_model = joblib.load(f'{model_folder}genres_model.pkl')\n",
        "release_year_model = joblib.load(f'{model_folder}release_year_model.pkl')\n",
        "imdb_rating_model = joblib.load(f'{model_folder}imdb_rating_model.pkl')\n",
        "votes_model = joblib.load(f'{model_folder}votes_model.pkl')"
      ]
    },
    {
      "cell_type": "markdown",
      "metadata": {
        "id": "OCzDdt3p-iL6"
      },
      "source": [
        "### Testing with real data from dataset"
      ]
    },
    {
      "cell_type": "markdown",
      "metadata": {
        "id": "4nbpJoAB_NTz"
      },
      "source": [
        "#### Character"
      ]
    },
    {
      "cell_type": "code",
      "execution_count": 23,
      "metadata": {
        "colab": {
          "base_uri": "https://localhost:8080/"
        },
        "id": "eQooNTTJ90kn",
        "outputId": "142ab4a4-3546-4a52-edd8-8b9af0244b1f"
      },
      "outputs": [
        {
          "name": "stdout",
          "output_type": "stream",
          "text": [
            "Index: 5436\n",
            "Line: is it because of my mistake six men did not return from that raid\n",
            "Results:\n",
            "-------------------------------------------------\n",
            "Real gender:     \t m\n",
            "Predicted gender:\t m\n",
            "\n",
            "Real credits_pos:     \t 5\n",
            "Predicted credits_pos:\t 5\n",
            "\n"
          ]
        }
      ],
      "source": [
        "random_index = np.random.randint(len(character_metadata))\n",
        "test1 = character_metadata.loc[random_index]['line']\n",
        "predictions = predict_character_metadata(test1)\n",
        "\n",
        "print(f'Index: {random_index}')\n",
        "print(f'Line: {test1}')\n",
        "print('Results:')\n",
        "print(\"-------------------------------------------------\")\n",
        "for i in predictions:\n",
        "    print(f'Real {i}:     \\t {character_metadata.loc[random_index][i]}')\n",
        "    print(f'Predicted {i}:\\t {predictions[i]}')\n",
        "    print()"
      ]
    },
    {
      "cell_type": "markdown",
      "metadata": {
        "id": "Oyd0WPQ-_Sgl"
      },
      "source": [
        "#### Movie"
      ]
    },
    {
      "cell_type": "code",
      "execution_count": 26,
      "metadata": {
        "colab": {
          "base_uri": "https://localhost:8080/"
        },
        "id": "IvGOyNnn-gi5",
        "outputId": "f09fbb3e-05f3-4743-f941-386e813c19c2"
      },
      "outputs": [
        {
          "name": "stdout",
          "output_type": "stream",
          "text": [
            "Index: 66844\n",
            "Dialog: ho ho capital punks;signior romeo bon jour there's a french salutation to your french slop you gave us the counterfeit fairly last night;good morrow to you both what counterfeit did i give you;the slip son the slip can you not conceive;pardon good mercutio my business was great and in such a case as mine a man may strain courtesy;that is as much as to say such a case as yours constrains a man to bow in the hams;meaning to court'sy;thou hast most kindly hit it;a most courteous exposition;nay i am the very pink of courtesy;pink for flower;right;why then is my pump well flowered;sure witt now art thou sociable now art thou romeo now art thou what thou art by art as well as by nature;here's goodly gear\n",
            "Results:\n",
            "-------------------------------------------------\n",
            "Real genres:     \t ['drama', 'romance']\n",
            "Predicted genres:\t ['drama', 'romance']\n",
            "\n",
            "Real year:     \t 1968\n",
            "Predicted year:\t 1977\n",
            "\n",
            "Real IMBD_rating:     \t 7.8\n",
            "Predicted IMBD_rating:\t 7.5\n",
            "\n",
            "Real IMBD_votes:     \t 12360\n",
            "Predicted IMBD_votes:\t 13840\n",
            "\n"
          ]
        }
      ],
      "source": [
        "random_index = np.random.randint(len(movie_metadata))\n",
        "test2 = movie_metadata.loc[random_index]['dialog']\n",
        "predictions = predict_movie_metadata(test2)\n",
        "\n",
        "print(f'Index: {random_index}')\n",
        "print(f'Dialog: {test2}')\n",
        "print('Results:')\n",
        "print(\"-------------------------------------------------\")\n",
        "for i in predictions:\n",
        "    print(f'Real {i}:     \\t {movie_metadata.loc[random_index][i]}')\n",
        "    print(f'Predicted {i}:\\t {predictions[i]}')\n",
        "    print()"
      ]
    },
    {
      "cell_type": "markdown",
      "metadata": {
        "id": "ldQQncT4-lcJ"
      },
      "source": [
        "### Testing with fictional data"
      ]
    },
    {
      "cell_type": "code",
      "execution_count": 27,
      "metadata": {
        "colab": {
          "base_uri": "https://localhost:8080/"
        },
        "id": "r6fEv8i3_G79",
        "outputId": "fd0f36e1-63eb-438e-d486-29c742891d62"
      },
      "outputs": [
        {
          "data": {
            "text/plain": [
              "{'gender': 'm', 'credits_pos': 1}"
            ]
          },
          "execution_count": 27,
          "metadata": {},
          "output_type": "execute_result"
        }
      ],
      "source": [
        "predict_character_metadata(\"Hey, I think I'm in love with you\")"
      ]
    },
    {
      "cell_type": "code",
      "execution_count": 28,
      "metadata": {
        "colab": {
          "base_uri": "https://localhost:8080/"
        },
        "id": "BfMxsARcteqL",
        "outputId": "de3974bf-73f9-4a88-c726-5ad2210e3827"
      },
      "outputs": [
        {
          "data": {
            "text/plain": [
              "{'gender': 'f', 'credits_pos': 1}"
            ]
          },
          "execution_count": 28,
          "metadata": {},
          "output_type": "execute_result"
        }
      ],
      "source": [
        "predict_character_metadata(\"Do you want to play football?\")"
      ]
    },
    {
      "cell_type": "code",
      "execution_count": 29,
      "metadata": {
        "colab": {
          "base_uri": "https://localhost:8080/"
        },
        "id": "bEZU-bFioVBZ",
        "outputId": "04ff07a5-4a5c-41dd-e164-f384a6e14ca4"
      },
      "outputs": [
        {
          "data": {
            "text/plain": [
              "{'genres': ['comedy', 'drama'],\n",
              " 'year': 1996,\n",
              " 'IMBD_rating': 6.7,\n",
              " 'IMBD_votes': 37502}"
            ]
          },
          "execution_count": 29,
          "metadata": {},
          "output_type": "execute_result"
        }
      ],
      "source": [
        "predict_movie_metadata(\"Hi; Hey how are you?; I'm really scared, I think there is some on in my house\")"
      ]
    },
    {
      "cell_type": "code",
      "execution_count": 30,
      "metadata": {
        "colab": {
          "base_uri": "https://localhost:8080/"
        },
        "id": "-Kq1UfK_scN8",
        "outputId": "fd8f6c0e-0a09-41de-8215-d96581e4e725"
      },
      "outputs": [
        {
          "data": {
            "text/plain": [
              "{'genres': ['crime', 'drama', 'thriller'],\n",
              " 'year': 1992,\n",
              " 'IMBD_rating': 6.5,\n",
              " 'IMBD_votes': 30232}"
            ]
          },
          "execution_count": 30,
          "metadata": {},
          "output_type": "execute_result"
        }
      ],
      "source": [
        "predict_movie_metadata(\"I want 100000 dollars; How will you get all that money?; I'll rob a bank\")"
      ]
    }
  ],
  "metadata": {
    "colab": {
      "provenance": []
    },
    "kernelspec": {
      "display_name": "Python 3",
      "name": "python3"
    },
    "language_info": {
      "codemirror_mode": {
        "name": "ipython",
        "version": 3
      },
      "file_extension": ".py",
      "mimetype": "text/x-python",
      "name": "python",
      "nbconvert_exporter": "python",
      "pygments_lexer": "ipython3",
      "version": "3.11.5"
    }
  },
  "nbformat": 4,
  "nbformat_minor": 0
}
